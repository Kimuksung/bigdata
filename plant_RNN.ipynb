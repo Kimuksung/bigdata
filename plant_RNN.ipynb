{
  "nbformat": 4,
  "nbformat_minor": 0,
  "metadata": {
    "colab": {
      "name": "plant_RNN.ipynb",
      "provenance": [],
      "collapsed_sections": [],
      "authorship_tag": "ABX9TyNUzfaa9MW2YCLgrT6A2788",
      "include_colab_link": true
    },
    "kernelspec": {
      "name": "python3",
      "display_name": "Python 3"
    }
  },
  "cells": [
    {
      "cell_type": "markdown",
      "metadata": {
        "id": "view-in-github",
        "colab_type": "text"
      },
      "source": [
        "<a href=\"https://colab.research.google.com/github/Kimuksung/bigdata/blob/master/plant_RNN.ipynb\" target=\"_parent\"><img src=\"https://colab.research.google.com/assets/colab-badge.svg\" alt=\"Open In Colab\"/></a>"
      ]
    },
    {
      "cell_type": "code",
      "metadata": {
        "id": "ykYDiC0SlM9E",
        "colab_type": "code",
        "outputId": "2277b519-72de-4e69-92c5-af2d3296ac62",
        "colab": {
          "base_uri": "https://localhost:8080/",
          "height": 127
        }
      },
      "source": [
        "from google.colab import drive\n",
        "drive.mount('/gdrive', force_remount=True)  "
      ],
      "execution_count": 0,
      "outputs": [
        {
          "output_type": "stream",
          "text": [
            "Go to this URL in a browser: https://accounts.google.com/o/oauth2/auth?client_id=947318989803-6bn6qk8qdgf4n4g3pfee6491hc0brc4i.apps.googleusercontent.com&redirect_uri=urn%3aietf%3awg%3aoauth%3a2.0%3aoob&response_type=code&scope=email%20https%3a%2f%2fwww.googleapis.com%2fauth%2fdocs.test%20https%3a%2f%2fwww.googleapis.com%2fauth%2fdrive%20https%3a%2f%2fwww.googleapis.com%2fauth%2fdrive.photos.readonly%20https%3a%2f%2fwww.googleapis.com%2fauth%2fpeopleapi.readonly\n",
            "\n",
            "Enter your authorization code:\n",
            "··········\n",
            "Mounted at /gdrive\n"
          ],
          "name": "stdout"
        }
      ]
    },
    {
      "cell_type": "markdown",
      "metadata": {
        "id": "d8bV_37omKTs",
        "colab_type": "text"
      },
      "source": [
        "Data input"
      ]
    },
    {
      "cell_type": "code",
      "metadata": {
        "id": "qEG0CheJl-Bs",
        "colab_type": "code",
        "colab": {}
      },
      "source": [
        "import pandas as pd\n",
        "from datetime import datetime , timedelta\n",
        "\n",
        "plant1_train = pd.read_csv(\"/gdrive/My Drive/Plain/plant1_train.csv\")\n",
        "plant2_train = pd.read_csv(\"/gdrive/My Drive/Plain/plant2_train.csv\")"
      ],
      "execution_count": 0,
      "outputs": []
    },
    {
      "cell_type": "code",
      "metadata": {
        "id": "dQBpCKN6mGXk",
        "colab_type": "code",
        "outputId": "b982454b-cec1-4c92-aaba-fea5dc9e501a",
        "colab": {
          "base_uri": "https://localhost:8080/",
          "height": 547
        }
      },
      "source": [
        "plant1_train = plant1_train.drop('Unnamed: 0' , axis=1)\n",
        "cols = ['Date' , 'loc1_tem', 'loc1_hum', 'loc1_coil_temp','loc2_tem', 'loc2_hum', 'loc2_coil_temp' , 'loc3_tem', 'loc3_hum', 'loc3_coil_temp', 'out_tem', 'out_hum', 'loc1' , 'loc2' , 'loc3']\n",
        "plant1_train.columns = cols\n",
        "\n",
        "plant1_train_first = plant1_train[['Date','loc1_tem', 'out_tem' , 'loc1_coil_temp','loc1_hum' ,'out_hum','loc1']]\n",
        "\n",
        "a = datetime.strptime(plant1_train_first['Date'][0]  , '%Y-%m-%d %H:%M')\n",
        "\n",
        "date_trans = []\n",
        "for i in range(0,len(plant1_train_first)):\n",
        "    date_trans.append(datetime.strptime(plant1_train_first['Date'][i] , '%Y-%m-%d %H:%M'))\n",
        "\n",
        "plant1_train_first['date_trans'] = date_trans\n",
        "plant1_train_first"
      ],
      "execution_count": 0,
      "outputs": [
        {
          "output_type": "stream",
          "text": [
            "/usr/local/lib/python3.6/dist-packages/ipykernel_launcher.py:13: SettingWithCopyWarning: \n",
            "A value is trying to be set on a copy of a slice from a DataFrame.\n",
            "Try using .loc[row_indexer,col_indexer] = value instead\n",
            "\n",
            "See the caveats in the documentation: https://pandas.pydata.org/pandas-docs/stable/user_guide/indexing.html#returning-a-view-versus-a-copy\n",
            "  del sys.path[0]\n"
          ],
          "name": "stderr"
        },
        {
          "output_type": "execute_result",
          "data": {
            "text/html": [
              "<div>\n",
              "<style scoped>\n",
              "    .dataframe tbody tr th:only-of-type {\n",
              "        vertical-align: middle;\n",
              "    }\n",
              "\n",
              "    .dataframe tbody tr th {\n",
              "        vertical-align: top;\n",
              "    }\n",
              "\n",
              "    .dataframe thead th {\n",
              "        text-align: right;\n",
              "    }\n",
              "</style>\n",
              "<table border=\"1\" class=\"dataframe\">\n",
              "  <thead>\n",
              "    <tr style=\"text-align: right;\">\n",
              "      <th></th>\n",
              "      <th>Date</th>\n",
              "      <th>loc1_tem</th>\n",
              "      <th>out_tem</th>\n",
              "      <th>loc1_coil_temp</th>\n",
              "      <th>loc1_hum</th>\n",
              "      <th>out_hum</th>\n",
              "      <th>loc1</th>\n",
              "      <th>date_trans</th>\n",
              "    </tr>\n",
              "  </thead>\n",
              "  <tbody>\n",
              "    <tr>\n",
              "      <th>0</th>\n",
              "      <td>2016-04-01 0:00</td>\n",
              "      <td>16.00</td>\n",
              "      <td>9.00</td>\n",
              "      <td>11.00</td>\n",
              "      <td>24.00</td>\n",
              "      <td>42.00</td>\n",
              "      <td>0.0</td>\n",
              "      <td>2016-04-01 00:00:00</td>\n",
              "    </tr>\n",
              "    <tr>\n",
              "      <th>1</th>\n",
              "      <td>2016-04-01 3:00</td>\n",
              "      <td>14.00</td>\n",
              "      <td>7.00</td>\n",
              "      <td>10.00</td>\n",
              "      <td>28.00</td>\n",
              "      <td>59.00</td>\n",
              "      <td>0.0</td>\n",
              "      <td>2016-04-01 03:00:00</td>\n",
              "    </tr>\n",
              "    <tr>\n",
              "      <th>2</th>\n",
              "      <td>2016-04-01 6:00</td>\n",
              "      <td>13.00</td>\n",
              "      <td>6.00</td>\n",
              "      <td>10.00</td>\n",
              "      <td>33.00</td>\n",
              "      <td>56.00</td>\n",
              "      <td>0.0</td>\n",
              "      <td>2016-04-01 06:00:00</td>\n",
              "    </tr>\n",
              "    <tr>\n",
              "      <th>3</th>\n",
              "      <td>2016-04-01 9:00</td>\n",
              "      <td>13.00</td>\n",
              "      <td>18.00</td>\n",
              "      <td>10.00</td>\n",
              "      <td>33.00</td>\n",
              "      <td>30.00</td>\n",
              "      <td>0.0</td>\n",
              "      <td>2016-04-01 09:00:00</td>\n",
              "    </tr>\n",
              "    <tr>\n",
              "      <th>4</th>\n",
              "      <td>2016-04-01 12:00</td>\n",
              "      <td>16.00</td>\n",
              "      <td>18.00</td>\n",
              "      <td>10.00</td>\n",
              "      <td>28.00</td>\n",
              "      <td>20.00</td>\n",
              "      <td>0.0</td>\n",
              "      <td>2016-04-01 12:00:00</td>\n",
              "    </tr>\n",
              "    <tr>\n",
              "      <th>...</th>\n",
              "      <td>...</td>\n",
              "      <td>...</td>\n",
              "      <td>...</td>\n",
              "      <td>...</td>\n",
              "      <td>...</td>\n",
              "      <td>...</td>\n",
              "      <td>...</td>\n",
              "      <td>...</td>\n",
              "    </tr>\n",
              "    <tr>\n",
              "      <th>58744</th>\n",
              "      <td>2019-03-31 23:10</td>\n",
              "      <td>10.52</td>\n",
              "      <td>6.40</td>\n",
              "      <td>10.52</td>\n",
              "      <td>36.39</td>\n",
              "      <td>43.86</td>\n",
              "      <td>0.0</td>\n",
              "      <td>2019-03-31 23:10:00</td>\n",
              "    </tr>\n",
              "    <tr>\n",
              "      <th>58745</th>\n",
              "      <td>2019-03-31 23:20</td>\n",
              "      <td>10.52</td>\n",
              "      <td>6.34</td>\n",
              "      <td>10.44</td>\n",
              "      <td>37.09</td>\n",
              "      <td>44.02</td>\n",
              "      <td>0.0</td>\n",
              "      <td>2019-03-31 23:20:00</td>\n",
              "    </tr>\n",
              "    <tr>\n",
              "      <th>58746</th>\n",
              "      <td>2019-03-31 23:30</td>\n",
              "      <td>10.43</td>\n",
              "      <td>6.40</td>\n",
              "      <td>10.56</td>\n",
              "      <td>37.18</td>\n",
              "      <td>43.04</td>\n",
              "      <td>0.0</td>\n",
              "      <td>2019-03-31 23:30:00</td>\n",
              "    </tr>\n",
              "    <tr>\n",
              "      <th>58747</th>\n",
              "      <td>2019-03-31 23:40</td>\n",
              "      <td>10.49</td>\n",
              "      <td>6.31</td>\n",
              "      <td>10.56</td>\n",
              "      <td>38.00</td>\n",
              "      <td>45.33</td>\n",
              "      <td>0.0</td>\n",
              "      <td>2019-03-31 23:40:00</td>\n",
              "    </tr>\n",
              "    <tr>\n",
              "      <th>58748</th>\n",
              "      <td>2019-03-31 23:50</td>\n",
              "      <td>10.49</td>\n",
              "      <td>6.34</td>\n",
              "      <td>10.52</td>\n",
              "      <td>38.74</td>\n",
              "      <td>45.94</td>\n",
              "      <td>0.0</td>\n",
              "      <td>2019-03-31 23:50:00</td>\n",
              "    </tr>\n",
              "  </tbody>\n",
              "</table>\n",
              "<p>58749 rows × 8 columns</p>\n",
              "</div>"
            ],
            "text/plain": [
              "                   Date  loc1_tem  out_tem  ...  out_hum  loc1          date_trans\n",
              "0       2016-04-01 0:00     16.00     9.00  ...    42.00   0.0 2016-04-01 00:00:00\n",
              "1       2016-04-01 3:00     14.00     7.00  ...    59.00   0.0 2016-04-01 03:00:00\n",
              "2       2016-04-01 6:00     13.00     6.00  ...    56.00   0.0 2016-04-01 06:00:00\n",
              "3       2016-04-01 9:00     13.00    18.00  ...    30.00   0.0 2016-04-01 09:00:00\n",
              "4      2016-04-01 12:00     16.00    18.00  ...    20.00   0.0 2016-04-01 12:00:00\n",
              "...                 ...       ...      ...  ...      ...   ...                 ...\n",
              "58744  2019-03-31 23:10     10.52     6.40  ...    43.86   0.0 2019-03-31 23:10:00\n",
              "58745  2019-03-31 23:20     10.52     6.34  ...    44.02   0.0 2019-03-31 23:20:00\n",
              "58746  2019-03-31 23:30     10.43     6.40  ...    43.04   0.0 2019-03-31 23:30:00\n",
              "58747  2019-03-31 23:40     10.49     6.31  ...    45.33   0.0 2019-03-31 23:40:00\n",
              "58748  2019-03-31 23:50     10.49     6.34  ...    45.94   0.0 2019-03-31 23:50:00\n",
              "\n",
              "[58749 rows x 8 columns]"
            ]
          },
          "metadata": {
            "tags": []
          },
          "execution_count": 3
        }
      ]
    },
    {
      "cell_type": "markdown",
      "metadata": {
        "id": "MM5rLCrymZpU",
        "colab_type": "text"
      },
      "source": [
        "시계열 데이터 Check"
      ]
    },
    {
      "cell_type": "code",
      "metadata": {
        "id": "aDYUtx-zmQ-8",
        "colab_type": "code",
        "outputId": "1753b129-13e9-4459-b54d-fed7f184e0f8",
        "colab": {
          "base_uri": "https://localhost:8080/",
          "height": 292
        }
      },
      "source": [
        "from matplotlib import pyplot as plt\n",
        "temp = plant1_train_first\n",
        "temp2 = temp.set_index('date_trans')\n",
        "hour3 = temp2.resample('3H').first()\n",
        "\n",
        "hour3_temp = hour3['loc1_coil_temp']\n",
        "hour3_temp = hour3_temp.interpolate(method='linear')\n",
        "\n",
        "hour3_loc1_tem = hour3['loc1_tem']\n",
        "hour3_loc1_tem = hour3_temp.interpolate(method='linear')\n",
        "\n",
        "hour3_loc1_tem.plot(color = 'r' , label = 'loc1_tem')\n",
        "hour3['out_tem'].plot(color ='blue' , label = 'out_tem')\n",
        "\n",
        "hour3_temp.plot( color = 'green' , label = 'loc1_coil_temp')\n",
        "plt.show()\n"
      ],
      "execution_count": 0,
      "outputs": [
        {
          "output_type": "display_data",
          "data": {
            "image/png": "[encoded data removed]",
            "text/plain": [
              "<Figure size 432x288 with 1 Axes>"
            ]
          },
          "metadata": {
            "tags": [],
            "needs_background": "light"
          }
        }
      ]
    },
    {
      "cell_type": "markdown",
      "metadata": {
        "id": "DBnPdUWMmhiU",
        "colab_type": "text"
      },
      "source": [
        "Data Preprocessing"
      ]
    },
    {
      "cell_type": "code",
      "metadata": {
        "id": "FXc7_81tmdCj",
        "colab_type": "code",
        "outputId": "ce0a5bbc-6ade-4341-b261-fdc719294ca0",
        "colab": {
          "base_uri": "https://localhost:8080/",
          "height": 233
        }
      },
      "source": [
        "hour3\n",
        "hour3.out_tem.values\n",
        "\n",
        "hour3['dayofyear'] = hour3.index.dayofyear\n",
        "hour3['dayofhour'] = hour3.index.hour\n",
        "hour3['nextdaytemp'] = hour3.out_tem.shift(-8)\n",
        "hour3\n",
        "hour3.columns\n",
        "\n",
        "# 선형 보간\n",
        "hour3['loc1_tem'] = hour3['loc1_tem'].interpolate(method='linear')\n",
        "hour3['out_tem'] = hour3['out_tem'].interpolate(method='linear')\n",
        "hour3['loc1_coil_temp'] = hour3['loc1_coil_temp'].interpolate(method='linear')\n",
        "hour3['loc1_hum'] = hour3['loc1_hum'].interpolate(method='linear')\n",
        "hour3['out_hum'] = hour3['out_hum'].interpolate(method='linear')\n",
        "hour3['nextdaytemp'] = hour3['nextdaytemp'].interpolate(method='linear')\n",
        "\n",
        "print(hour3.isnull().sum())\n",
        "# df -> np\n",
        "y_data = hour3['nextdaytemp'].values[0:-8].reshape(-1, 1)\n",
        "hour3 = hour3.drop([\"Date\" , \"loc1\", \"nextdaytemp\"] , axis = 1)\n",
        "type(hour3) # dataframe\n",
        "\n",
        "type(hour3.values[0:-8]) #numpy\n",
        "x_data = hour3.values[0:-8]\n",
        "\n",
        "x_data.shape\n",
        "y_data.shape"
      ],
      "execution_count": 0,
      "outputs": [
        {
          "output_type": "stream",
          "text": [
            "Date               52\n",
            "loc1_tem            0\n",
            "out_tem             0\n",
            "loc1_coil_temp      0\n",
            "loc1_hum            0\n",
            "out_hum             0\n",
            "loc1              388\n",
            "dayofyear           0\n",
            "dayofhour           0\n",
            "nextdaytemp         0\n",
            "dtype: int64\n"
          ],
          "name": "stdout"
        },
        {
          "output_type": "execute_result",
          "data": {
            "text/plain": [
              "(8752, 1)"
            ]
          },
          "metadata": {
            "tags": []
          },
          "execution_count": 5
        }
      ]
    },
    {
      "cell_type": "markdown",
      "metadata": {
        "id": "gwJUKgAvmtHE",
        "colab_type": "text"
      },
      "source": [
        "Train test split / 0 ~ 1 normalize"
      ]
    },
    {
      "cell_type": "code",
      "metadata": {
        "id": "fn11jw40mjb0",
        "colab_type": "code",
        "outputId": "43fa539b-628e-43cb-c155-be89b9fba481",
        "colab": {
          "base_uri": "https://localhost:8080/",
          "height": 53
        }
      },
      "source": [
        "num_data = len(x_data)\n",
        "train_split = 0.8\n",
        "\n",
        "num_train = int(train_split * num_data) # 7001\n",
        "num_test = num_data - num_train # 1751\n",
        "\n",
        "x_train = x_data[0:num_train]\n",
        "x_test = x_data[num_train:]\n",
        "len(x_train) + len(x_test)\n",
        "\n",
        "y_train = y_data[0:num_train]\n",
        "y_test = y_data[num_train:]\n",
        "\n",
        "num_x_signals = x_data.shape[1]\n",
        "num_y_signals = 1\n",
        "\n",
        "import numpy as np\n",
        "print(\"Min:\", np.min(x_train))\n",
        "print(\"Max:\", np.max(x_train))\n",
        "\n"
      ],
      "execution_count": 0,
      "outputs": [
        {
          "output_type": "stream",
          "text": [
            "Min: -13.57\n",
            "Max: 366.0\n"
          ],
          "name": "stdout"
        }
      ]
    },
    {
      "cell_type": "code",
      "metadata": {
        "id": "TXnGbu2xm4Yr",
        "colab_type": "code",
        "outputId": "fee71344-cb27-44b2-988b-8c32002cf6e8",
        "colab": {
          "base_uri": "https://localhost:8080/",
          "height": 107
        }
      },
      "source": [
        "from sklearn.preprocessing import MinMaxScaler\n",
        "x_scaler = MinMaxScaler()\n",
        "x_train_scaled = x_scaler.fit_transform(x_train)\n",
        "\n",
        "print(\"Min:\", np.min(x_train_scaled))\n",
        "print(\"Max:\", np.max(x_train_scaled))\n",
        "\n",
        "x_test_scaled = x_scaler.transform(x_test)\n",
        "\n",
        "y_scaler = MinMaxScaler()\n",
        "y_train_scaled = y_scaler.fit_transform(y_train)\n",
        "y_test_scaled = y_scaler.transform(y_test)\n",
        "\n",
        "print(\"x_train_scale_shape:\" , x_train_scaled.shape)\n",
        "print(\"y_train_scale_shape:\" ,y_train_scaled.shape)\n",
        "\n",
        "print(\"y_test_scale_shape:\" ,y_test_scaled.shape)"
      ],
      "execution_count": 0,
      "outputs": [
        {
          "output_type": "stream",
          "text": [
            "Min: 0.0\n",
            "Max: 1.0\n",
            "x_train_scale_shape: (7001, 7)\n",
            "y_train_scale_shape: (7001, 1)\n",
            "y_test_scale_shape: (1751, 1)\n"
          ],
          "name": "stdout"
        }
      ]
    },
    {
      "cell_type": "markdown",
      "metadata": {
        "id": "U2uV89FXnBCM",
        "colab_type": "text"
      },
      "source": [
        "Data generator\n",
        "\n",
        "한번에 모든 data를 처리하지 말고 data를 분리하여 학습"
      ]
    },
    {
      "cell_type": "code",
      "metadata": {
        "id": "IgFv8qFim7Sl",
        "colab_type": "code",
        "colab": {}
      },
      "source": [
        "def batch_generator(batch_size, sequence_length):\n",
        "    while True:\n",
        "    # Allocate a new array for the batch of input-signals.\n",
        "        x_shape = (batch_size, sequence_length, num_x_signals)\n",
        "        x_batch = np.zeros(shape=x_shape, dtype=np.float16)\n",
        "        # Allocate a new array for the batch of output-signals.\n",
        "        y_shape = (batch_size, sequence_length, num_y_signals)\n",
        "        y_batch = np.zeros(shape=y_shape, dtype=np.float16)\n",
        "        # Fill the batch with random sequences of data.\n",
        "        for i in range(batch_size):\n",
        "        # Get a random start-index.\n",
        "        # This points somewhere into the training-data.\n",
        "            idx = np.random.randint(num_train - sequence_length)\n",
        "               \n",
        "            # Copy the sequences of data starting at this index.\n",
        "            x_batch[i] = x_train_scaled[idx:idx+sequence_length]\n",
        "            y_batch[i] = y_train_scaled[idx:idx+sequence_length]\n",
        "        \n",
        "        yield (x_batch, y_batch)"
      ],
      "execution_count": 0,
      "outputs": []
    },
    {
      "cell_type": "code",
      "metadata": {
        "id": "0UWe832snLJ0",
        "colab_type": "code",
        "outputId": "5c8003b3-4ec9-4fd0-b48a-7bb18943bb90",
        "colab": {
          "base_uri": "https://localhost:8080/",
          "height": 337
        }
      },
      "source": [
        "batch_size = 256\n",
        "sequence_length = 8 * 7 * 8\n",
        "\n",
        "generator = batch_generator(batch_size=batch_size,sequence_length=sequence_length)\n",
        "x_batch, y_batch = next(generator)\n",
        "\n",
        "print(\"x_batch : \",x_batch.shape)\n",
        "print(\"y_batch : \",y_batch.shape)\n",
        "\n",
        "batch = 0 # First sequence in the batch.\n",
        "signal = 0 # First signal from the 7 input-signals.\n",
        "seq = x_batch[batch, :, signal]\n",
        "plt.plot(seq)\n",
        "\n",
        "seq2 = y_batch[batch, :, signal]\n",
        "plt.plot(seq2)\n",
        "\n",
        "validation_data = (np.expand_dims(x_test_scaled, axis=0), np.expand_dims(y_test_scaled, axis=0))    \n",
        "\n",
        "print(np.expand_dims(x_test_scaled, axis=0).shape)\n",
        "print(np.expand_dims(y_test_scaled, axis=0).shape)"
      ],
      "execution_count": 0,
      "outputs": [
        {
          "output_type": "stream",
          "text": [
            "x_batch :  (256, 448, 7)\n",
            "y_batch :  (256, 448, 1)\n",
            "(1, 1751, 7)\n",
            "(1, 1751, 1)\n"
          ],
          "name": "stdout"
        },
        {
          "output_type": "display_data",
          "data": {
            "image/png": "[encoded data removed]",
            "text/plain": [
              "<Figure size 432x288 with 1 Axes>"
            ]
          },
          "metadata": {
            "tags": [],
            "needs_background": "light"
          }
        }
      ]
    },
    {
      "cell_type": "markdown",
      "metadata": {
        "id": "jlrSwQcrpQdO",
        "colab_type": "text"
      },
      "source": [
        "RNN Modeling"
      ]
    },
    {
      "cell_type": "code",
      "metadata": {
        "id": "EXuDyfTFnM4c",
        "colab_type": "code",
        "colab": {}
      },
      "source": [
        "import tensorflow as tf\n",
        "from tensorflow.python.keras.models import Sequential\n",
        "from tensorflow.python.keras.layers import Input, Dense, GRU, Embedding\n",
        "from tensorflow.python.keras.optimizers import RMSprop\n",
        "from tensorflow.python.keras.callbacks import EarlyStopping, ModelCheckpoint, TensorBoard, ReduceLROnPlateau\n",
        "\n",
        "model = Sequential()\n",
        "model.add(GRU(units=512, return_sequences=True, input_shape=(None, num_x_signals,)))\n",
        "model.add(Dense(1, activation='sigmoid'))"
      ],
      "execution_count": 0,
      "outputs": []
    },
    {
      "cell_type": "code",
      "metadata": {
        "id": "1TteNESAu6Zz",
        "colab_type": "code",
        "colab": {}
      },
      "source": [
        "warmup_steps = 50\n",
        "\n",
        "def loss_mse_warmup(y_true, y_pred):\n",
        "     y_true_slice = y_true[:, warmup_steps:, :]\n",
        "     y_pred_slice = y_pred[:, warmup_steps:, :]\n",
        "     # These sliced tensors both have this shape:\n",
        "     # [batch_size, sequence_length - warmup_steps, num_y_signals]\n",
        "     # Calculate the MSE loss for each value in these tensors.\n",
        "     # This outputs a 3-rank tensor of the same shape.\n",
        "     #loss = tf.losses.mean_squared_error(labels=y_true_slice, predictions=y_pred_slice)\n",
        "     loss = tf.losses.mean_squared_error(y_true_slice, y_pred_slice)\n",
        "     # Keras may reduce this across the first axis (the batch)\n",
        "     # but the semantics are unclear, so to be sure we use\n",
        "     # the loss across the entire tensor, we reduce it to a\n",
        "     # single scalar with the mean function.\n",
        "     loss_mean = tf.reduce_mean(loss)\n",
        "     return loss_mean"
      ],
      "execution_count": 0,
      "outputs": []
    },
    {
      "cell_type": "code",
      "metadata": {
        "id": "zCknetx9u9Nx",
        "colab_type": "code",
        "outputId": "fcbf1bd6-527f-484d-bd6e-2570797c4963",
        "colab": {
          "base_uri": "https://localhost:8080/",
          "height": 233
        }
      },
      "source": [
        "#optimizer = RMSprop(lr=1e-3)\n",
        "optimizer = tf.keras.optimizers.RMSprop(lr=1e-3)\n",
        "model.compile(loss=loss_mse_warmup, optimizer=optimizer)\n",
        "model.summary()"
      ],
      "execution_count": 0,
      "outputs": [
        {
          "output_type": "stream",
          "text": [
            "Model: \"sequential\"\n",
            "_________________________________________________________________\n",
            "Layer (type)                 Output Shape              Param #   \n",
            "=================================================================\n",
            "gru (GRU)                    (None, None, 512)         800256    \n",
            "_________________________________________________________________\n",
            "dense (Dense)                (None, None, 1)           513       \n",
            "=================================================================\n",
            "Total params: 800,769\n",
            "Trainable params: 800,769\n",
            "Non-trainable params: 0\n",
            "_________________________________________________________________\n"
          ],
          "name": "stdout"
        }
      ]
    },
    {
      "cell_type": "code",
      "metadata": {
        "id": "2IfKNh4UwqIc",
        "colab_type": "code",
        "colab": {}
      },
      "source": [
        "import os\n",
        "checkpoint_path = \"/gdrive/My Drive/plant1/cp.ckpt\"\n",
        "checkpoint_dir = os.path.dirname(checkpoint_path)\n",
        "\n",
        "callback_checkpoint = tf.keras.callbacks.ModelCheckpoint(filepath=checkpoint_path, monitor='val_loss',verbose=1,save_weights_only=True,save_best_only=True)"
      ],
      "execution_count": 0,
      "outputs": []
    },
    {
      "cell_type": "code",
      "metadata": {
        "id": "JuM_g-88z3v6",
        "colab_type": "code",
        "colab": {}
      },
      "source": [
        "#callback_early_stopping = EarlyStopping(monitor='val_loss', patience=5, verbose=1)\n",
        "callback_early_stopping = tf.keras.callbacks.EarlyStopping(monitor='val_loss', patience=5, verbose=1)"
      ],
      "execution_count": 0,
      "outputs": []
    },
    {
      "cell_type": "code",
      "metadata": {
        "id": "_0jhh_mWz5uo",
        "colab_type": "code",
        "colab": {}
      },
      "source": [
        "#callback_tensorboard = TensorBoard(log_dir='./23_logs/', histogram_freq=0, write_graph=False)\n",
        "callback_tensorboard = TensorBoard(log_dir='./23_logs/', histogram_freq=0, write_graph=False)"
      ],
      "execution_count": 0,
      "outputs": []
    },
    {
      "cell_type": "code",
      "metadata": {
        "id": "uJWO2lW0z7XQ",
        "colab_type": "code",
        "colab": {}
      },
      "source": [
        "#callback_reduce_lr = ReduceLROnPlateau(monitor='val_loss', factor=0.1, min_lr=1e-4,patience=0,verbose=1)\n",
        "callback_reduce_lr = ReduceLROnPlateau(monitor='val_loss', factor=0.1, min_lr=1e-4,patience=0,verbose=1)"
      ],
      "execution_count": 0,
      "outputs": []
    },
    {
      "cell_type": "code",
      "metadata": {
        "id": "ZdFkTRSqz8rH",
        "colab_type": "code",
        "colab": {}
      },
      "source": [
        "#callbacks = [callback_early_stopping,callback_checkpoint,callback_tensorboard, callback_reduce_lr]\n",
        "callbacks = [callback_early_stopping,callback_checkpoint,callback_tensorboard, callback_reduce_lr]"
      ],
      "execution_count": 0,
      "outputs": []
    },
    {
      "cell_type": "code",
      "metadata": {
        "id": "zghYH5Nm0QPI",
        "colab_type": "code",
        "outputId": "a84f431b-869b-4e4e-9c90-8968a16c15e9",
        "colab": {
          "base_uri": "https://localhost:8080/",
          "height": 701
        }
      },
      "source": [
        "model.fit(x=generator, epochs=20, steps_per_epoch=100, validation_data=validation_data,callbacks=callbacks)"
      ],
      "execution_count": 0,
      "outputs": [
        {
          "output_type": "stream",
          "text": [
            "Epoch 1/20\n",
            "100/100 [==============================] - ETA: 0s - loss: 0.0132 \n",
            "Epoch 00001: val_loss improved from inf to 0.00351, saving model to /gdrive/My Drive/plant1/cp.ckpt\n",
            "100/100 [==============================] - 1241s 12s/step - loss: 0.0132 - val_loss: 0.0035 - lr: 0.0010\n",
            "Epoch 2/20\n",
            "100/100 [==============================] - ETA: 0s - loss: 0.0051 \n",
            "Epoch 00002: val_loss improved from 0.00351 to 0.00349, saving model to /gdrive/My Drive/plant1/cp.ckpt\n",
            "\n",
            "Epoch 00002: ReduceLROnPlateau reducing learning rate to 0.00010000000474974513.\n",
            "100/100 [==============================] - 1214s 12s/step - loss: 0.0051 - val_loss: 0.0035 - lr: 0.0010\n",
            "Epoch 3/20\n",
            "100/100 [==============================] - ETA: 0s - loss: 0.0034 \n",
            "Epoch 00003: val_loss improved from 0.00349 to 0.00277, saving model to /gdrive/My Drive/plant1/cp.ckpt\n",
            "100/100 [==============================] - 1243s 12s/step - loss: 0.0034 - val_loss: 0.0028 - lr: 1.0000e-04\n",
            "Epoch 4/20\n",
            "100/100 [==============================] - ETA: 0s - loss: 0.0032 \n",
            "Epoch 00004: val_loss did not improve from 0.00277\n",
            "\n",
            "Epoch 00004: ReduceLROnPlateau reducing learning rate to 0.0001.\n",
            "100/100 [==============================] - 1282s 13s/step - loss: 0.0032 - val_loss: 0.0028 - lr: 1.0000e-04\n",
            "Epoch 5/20\n",
            "100/100 [==============================] - ETA: 0s - loss: 0.0030 \n",
            "Epoch 00005: val_loss did not improve from 0.00277\n",
            "100/100 [==============================] - 1282s 13s/step - loss: 0.0030 - val_loss: 0.0030 - lr: 1.0000e-04\n",
            "Epoch 6/20\n",
            "100/100 [==============================] - ETA: 0s - loss: 0.0030 \n",
            "Epoch 00006: val_loss did not improve from 0.00277\n",
            "100/100 [==============================] - 1282s 13s/step - loss: 0.0030 - val_loss: 0.0032 - lr: 1.0000e-04\n",
            "Epoch 7/20\n",
            "100/100 [==============================] - ETA: 0s - loss: 0.0030 \n",
            "Epoch 00007: val_loss did not improve from 0.00277\n",
            "100/100 [==============================] - 1266s 13s/step - loss: 0.0030 - val_loss: 0.0030 - lr: 1.0000e-04\n",
            "Epoch 8/20\n",
            "100/100 [==============================] - ETA: 0s - loss: 0.0029 \n",
            "Epoch 00008: val_loss did not improve from 0.00277\n",
            "100/100 [==============================] - 1274s 13s/step - loss: 0.0029 - val_loss: 0.0030 - lr: 1.0000e-04\n",
            "Epoch 00008: early stopping\n"
          ],
          "name": "stdout"
        },
        {
          "output_type": "execute_result",
          "data": {
            "text/plain": [
              "<tensorflow.python.keras.callbacks.History at 0x7fd8b2b2be80>"
            ]
          },
          "metadata": {
            "tags": []
          },
          "execution_count": 18
        }
      ]
    },
    {
      "cell_type": "markdown",
      "metadata": {
        "id": "ygK8AHHZTbtw",
        "colab_type": "text"
      },
      "source": [
        "Epoch 1/20\n",
        "100/100 [==============================] - ETA: 0s - loss: 0.0106 \n",
        "Epoch 00001: val_loss improved from inf to 0.00365, saving model to plant1/cp.ckpt\n",
        "100/100 [==============================] - 1334s 13s/step - loss: 0.0106 - val_loss: 0.0037 - lr: 0.0010\n",
        "Epoch 2/20\n",
        "100/100 [==============================] - ETA: 0s - loss: 0.0047 \n",
        "Epoch 00002: val_loss improved from 0.00365 to 0.00304, saving model to plant1/cp.ckpt\n",
        "100/100 [==============================] - 1335s 13s/step - loss: 0.0047 - val_loss: 0.0030 - lr: 0.0010\n",
        "Epoch 3/20\n",
        "100/100 [==============================] - ETA: 0s - loss: 0.0041 \n",
        "Epoch 00003: val_loss improved from 0.00304 to 0.00297, saving model to plant1/cp.ckpt\n",
        "\n",
        "Epoch 00003: ReduceLROnPlateau reducing learning rate to 0.00010000000474974513.\n",
        "100/100 [==============================] - 1330s 13s/step - loss: 0.0041 - val_loss: 0.0030 - lr: 0.0010\n",
        "Epoch 4/20\n",
        "100/100 [==============================] - ETA: 0s - loss: 0.0031 \n",
        "Epoch 00004: val_loss improved from 0.00297 to 0.00277, saving model to plant1/cp.ckpt\n",
        "100/100 [==============================] - 1321s 13s/step - loss: 0.0031 - val_loss: 0.0028 - lr: 1.0000e-04\n",
        "Epoch 5/20\n",
        "100/100 [==============================] - ETA: 0s - loss: 0.0029 \n",
        "Epoch 00005: val_loss did not improve from 0.00277\n",
        "\n",
        "Epoch 00005: ReduceLROnPlateau reducing learning rate to 0.0001.\n",
        "100/100 [==============================] - 1341s 13s/step - loss: 0.0029 - val_loss: 0.0028 - lr: 1.0000e-04\n",
        "Epoch 6/20\n",
        "100/100 [==============================] - ETA: 0s - loss: 0.0029 \n",
        "Epoch 00006: val_loss did not improve from 0.00277\n",
        "100/100 [==============================] - 1339s 13s/step - loss: 0.0029 - val_loss: 0.0028 - lr: 1.0000e-04\n",
        "Epoch 7/20\n",
        "100/100 [==============================] - ETA: 0s - loss: 0.0029 \n",
        "Epoch 00007: val_loss did not improve from 0.00277\n",
        "100/100 [==============================] - 1327s 13s/step - loss: 0.0029 - val_loss: 0.0028 - lr: 1.0000e-04\n",
        "Epoch 8/20\n",
        "100/100 [==============================] - ETA: 0s - loss: 0.0028 \n",
        "Epoch 00008: val_loss did not improve from 0.00277\n",
        "100/100 [==============================] - 1334s 13s/step - loss: 0.0028 - val_loss: 0.0028 - lr: 1.0000e-04\n",
        "Epoch 9/20\n",
        "100/100 [==============================] - ETA: 0s - loss: 0.0028 \n",
        "Epoch 00009: val_loss improved from 0.00277 to 0.00272, saving model to plant1/cp.ckpt\n",
        "100/100 [==============================] - 1328s 13s/step - loss: 0.0028 - val_loss: 0.0027 - lr: 1.0000e-04\n",
        "Epoch 10/20\n",
        "100/100 [==============================] - ETA: 0s - loss: 0.0028 \n",
        "Epoch 00010: val_loss did not improve from 0.00272\n",
        "100/100 [==============================] - 1347s 13s/step - loss: 0.0028 - val_loss: 0.0027 - lr: 1.0000e-04\n",
        "Epoch 11/20\n",
        "100/100 [==============================] - ETA: 0s - loss: 0.0028 \n",
        "Epoch 00011: val_loss did not improve from 0.00272\n",
        "100/100 [==============================] - 1344s 13s/step - loss: 0.0028 - val_loss: 0.0031 - lr: 1.0000e-04\n",
        "Epoch 12/20\n",
        "100/100 [==============================] - ETA: 0s - loss: 0.0027 \n",
        "Epoch 00012: val_loss did not improve from 0.00272\n",
        "100/100 [==============================] - 1364s 14s/step - loss: 0.0027 - val_loss: 0.0028 - lr: 1.0000e-04\n",
        "Epoch 13/20\n",
        "100/100 [==============================] - ETA: 0s - loss: 0.0027 \n",
        "Epoch 00013: val_loss did not improve from 0.00272\n",
        "100/100 [==============================] - 1346s 13s/step - loss: 0.0027 - val_loss: 0.0027 - lr: 1.0000e-04\n",
        "Epoch 14/20\n",
        "100/100 [==============================] - ETA: 0s - loss: 0.0027 \n",
        "Epoch 00014: val_loss did not improve from 0.00272\n",
        "100/100 [==============================] - 1330s 13s/step - loss: 0.0027 - val_loss: 0.0028 - lr: 1.0000e-04\n",
        "Epoch 00014: early stopping\n",
        "<tensorflow.python.keras.callbacks.History at 0x7fbee512bfd0>"
      ]
    },
    {
      "cell_type": "code",
      "metadata": {
        "id": "cklXMPJx0X4o",
        "colab_type": "code",
        "colab": {}
      },
      "source": [
        "#model.save('/gdrive/My Drive/plant1/cp.ckpt')\n",
        "model.save('/gdrive/My Drive/plant1/my_model.h5')\n",
        "model.save_weights(checkpoint_path.format(epoch=0))"
      ],
      "execution_count": 0,
      "outputs": []
    },
    {
      "cell_type": "code",
      "metadata": {
        "id": "dKiBbfxXG6BH",
        "colab_type": "code",
        "outputId": "92683e47-73b0-4d51-acdc-3e6e3bbbdda3",
        "colab": {
          "base_uri": "https://localhost:8080/",
          "height": 35
        }
      },
      "source": [
        "result = model.evaluate(x=np.expand_dims(x_test_scaled, axis=0),y=np.expand_dims(y_test_scaled, axis=0))"
      ],
      "execution_count": 0,
      "outputs": [
        {
          "output_type": "stream",
          "text": [
            "1/1 [==============================] - 0s 3ms/step - loss: 0.0030\n"
          ],
          "name": "stdout"
        }
      ]
    },
    {
      "cell_type": "code",
      "metadata": {
        "id": "mA2pYH2KHAj1",
        "colab_type": "code",
        "outputId": "ad2bd1fa-cc04-432d-d065-a995810fff5b",
        "colab": {
          "base_uri": "https://localhost:8080/",
          "height": 35
        }
      },
      "source": [
        "print(\"loss (test-set):\", result)"
      ],
      "execution_count": 0,
      "outputs": [
        {
          "output_type": "stream",
          "text": [
            "loss (test-set): 0.0029786585364490747\n"
          ],
          "name": "stdout"
        }
      ]
    },
    {
      "cell_type": "code",
      "metadata": {
        "id": "ENSIR3VqHbfl",
        "colab_type": "code",
        "colab": {}
      },
      "source": [
        "def plot_comparison(start_idx, length=100, train=True):\n",
        "    if train:\n",
        "        x = x_train_scaled\n",
        "        y_true = y_train\n",
        "    else:\n",
        "        x = x_test_scaled\n",
        "        y_true = y_test\n",
        "\n",
        "    end_idx = start_idx + length\n",
        "\n",
        "    x = x[start_idx:end_idx]\n",
        "    y_true = y_true[start_idx:end_idx]\n",
        "\n",
        "    x = np.expand_dims(x, axis=0)\n",
        "    y_pred = model.predict(x)\n",
        "\n",
        "    y_pred_rescaled = y_scaler.inverse_transform(y_pred[0])\n",
        "\n",
        "    for signal in range(1):\n",
        "        signal_pred = y_pred_rescaled[:, signal]\n",
        "\n",
        "        signal_true = y_true[:, signal]\n",
        "        plt.figure(figsize=(15,5))\n",
        "\n",
        "        plt.plot(signal_true, label='true')\n",
        "        plt.plot(signal_pred, label='pred')\n",
        "\n",
        "        p = plt.axvspan(0, warmup_steps, facecolor='black', alpha=0.15)\n",
        "\n",
        "        plt.legend()\n",
        "        plt.show()"
      ],
      "execution_count": 0,
      "outputs": []
    },
    {
      "cell_type": "code",
      "metadata": {
        "id": "r7tfcn5zIn9N",
        "colab_type": "code",
        "outputId": "1a5c0bda-b461-4620-af14-fa18bbf80b88",
        "colab": {
          "base_uri": "https://localhost:8080/",
          "height": 322
        }
      },
      "source": [
        "plot_comparison(start_idx=0, length=500, train=True)"
      ],
      "execution_count": 0,
      "outputs": [
        {
          "output_type": "display_data",
          "data": {
            "image/png": "[encoded data removed]",
            "text/plain": [
              "<Figure size 1080x360 with 1 Axes>"
            ]
          },
          "metadata": {
            "tags": [],
            "needs_background": "light"
          }
        }
      ]
    },
    {
      "cell_type": "code",
      "metadata": {
        "id": "qyvakLrlK-XN",
        "colab_type": "code",
        "outputId": "f6e4422e-9632-42ff-fab3-18348c4700f7",
        "colab": {
          "base_uri": "https://localhost:8080/",
          "height": 419
        }
      },
      "source": [
        "from sklearn.metrics import classification_report\n",
        "y_true2 = y_test_scaled\n",
        "x_test_scaled2 = np.expand_dims(x_test_scaled, axis=0)\n",
        "y_pred = model.predict(x_test_scaled2)\n",
        "\n",
        "y_pred_rescaled = y_scaler.inverse_transform(y_pred[0])\n",
        "y_true3 = y_scaler.inverse_transform(y_true2)\n",
        "\n",
        "pd.Series(np.squeeze(y_pred_rescaled))\n",
        "pd.Series(np.squeeze(y_true3))\n",
        "answer = pd.DataFrame({\"true\": pd.Series(np.squeeze(y_true3)) , \"pred\": pd.Series(np.squeeze(y_pred_rescaled))})\n",
        "answer"
      ],
      "execution_count": 0,
      "outputs": [
        {
          "output_type": "execute_result",
          "data": {
            "text/html": [
              "<div>\n",
              "<style scoped>\n",
              "    .dataframe tbody tr th:only-of-type {\n",
              "        vertical-align: middle;\n",
              "    }\n",
              "\n",
              "    .dataframe tbody tr th {\n",
              "        vertical-align: top;\n",
              "    }\n",
              "\n",
              "    .dataframe thead th {\n",
              "        text-align: right;\n",
              "    }\n",
              "</style>\n",
              "<table border=\"1\" class=\"dataframe\">\n",
              "  <thead>\n",
              "    <tr style=\"text-align: right;\">\n",
              "      <th></th>\n",
              "      <th>true</th>\n",
              "      <th>pred</th>\n",
              "    </tr>\n",
              "  </thead>\n",
              "  <tbody>\n",
              "    <tr>\n",
              "      <th>0</th>\n",
              "      <td>23.22</td>\n",
              "      <td>20.540102</td>\n",
              "    </tr>\n",
              "    <tr>\n",
              "      <th>1</th>\n",
              "      <td>22.06</td>\n",
              "      <td>28.010422</td>\n",
              "    </tr>\n",
              "    <tr>\n",
              "      <th>2</th>\n",
              "      <td>28.38</td>\n",
              "      <td>28.837101</td>\n",
              "    </tr>\n",
              "    <tr>\n",
              "      <th>3</th>\n",
              "      <td>30.24</td>\n",
              "      <td>26.907873</td>\n",
              "    </tr>\n",
              "    <tr>\n",
              "      <th>4</th>\n",
              "      <td>27.74</td>\n",
              "      <td>26.850681</td>\n",
              "    </tr>\n",
              "    <tr>\n",
              "      <th>...</th>\n",
              "      <td>...</td>\n",
              "      <td>...</td>\n",
              "    </tr>\n",
              "    <tr>\n",
              "      <th>1746</th>\n",
              "      <td>10.09</td>\n",
              "      <td>8.959027</td>\n",
              "    </tr>\n",
              "    <tr>\n",
              "      <th>1747</th>\n",
              "      <td>9.11</td>\n",
              "      <td>11.721450</td>\n",
              "    </tr>\n",
              "    <tr>\n",
              "      <th>1748</th>\n",
              "      <td>9.02</td>\n",
              "      <td>11.044257</td>\n",
              "    </tr>\n",
              "    <tr>\n",
              "      <th>1749</th>\n",
              "      <td>7.74</td>\n",
              "      <td>8.258744</td>\n",
              "    </tr>\n",
              "    <tr>\n",
              "      <th>1750</th>\n",
              "      <td>6.61</td>\n",
              "      <td>5.964138</td>\n",
              "    </tr>\n",
              "  </tbody>\n",
              "</table>\n",
              "<p>1751 rows × 2 columns</p>\n",
              "</div>"
            ],
            "text/plain": [
              "       true       pred\n",
              "0     23.22  20.540102\n",
              "1     22.06  28.010422\n",
              "2     28.38  28.837101\n",
              "3     30.24  26.907873\n",
              "4     27.74  26.850681\n",
              "...     ...        ...\n",
              "1746  10.09   8.959027\n",
              "1747   9.11  11.721450\n",
              "1748   9.02  11.044257\n",
              "1749   7.74   8.258744\n",
              "1750   6.61   5.964138\n",
              "\n",
              "[1751 rows x 2 columns]"
            ]
          },
          "metadata": {
            "tags": []
          },
          "execution_count": 24
        }
      ]
    },
    {
      "cell_type": "code",
      "metadata": {
        "id": "hQCtX24UPoom",
        "colab_type": "code",
        "outputId": "71c88580-32bf-4c10-fe42-a59988b359f1",
        "colab": {
          "base_uri": "https://localhost:8080/",
          "height": 53
        }
      },
      "source": [
        "from sklearn.metrics import r2_score ,mean_squared_error\n",
        "\n",
        "print(r2_score(answer.true, answer['pred']))\n",
        "print(mean_squared_error(np.squeeze(y_true2) , np.squeeze(y_pred)))"
      ],
      "execution_count": 0,
      "outputs": [
        {
          "output_type": "stream",
          "text": [
            "0.9004905325901291\n",
            "0.002980383068432589\n"
          ],
          "name": "stdout"
        }
      ]
    },
    {
      "cell_type": "code",
      "metadata": {
        "id": "ZO-vS2fmt0dZ",
        "colab_type": "code",
        "outputId": "6eb3221f-45f1-4bf9-bcf2-6be11dcb6bdc",
        "colab": {
          "base_uri": "https://localhost:8080/",
          "height": 233
        }
      },
      "source": [
        "test_model = Sequential()\n",
        "test_model.add(GRU(units=512, return_sequences=True, input_shape=(None, num_x_signals,)))\n",
        "test_model.add(Dense(1, activation='sigmoid'))\n",
        "\n",
        "optimizer = tf.keras.optimizers.RMSprop(lr=1e-3)\n",
        "test_model.compile(loss=loss_mse_warmup, optimizer=optimizer)\n",
        "test_model.summary()"
      ],
      "execution_count": 0,
      "outputs": [
        {
          "output_type": "stream",
          "text": [
            "Model: \"sequential_1\"\n",
            "_________________________________________________________________\n",
            "Layer (type)                 Output Shape              Param #   \n",
            "=================================================================\n",
            "gru_1 (GRU)                  (None, None, 512)         800256    \n",
            "_________________________________________________________________\n",
            "dense_1 (Dense)              (None, None, 1)           513       \n",
            "=================================================================\n",
            "Total params: 800,769\n",
            "Trainable params: 800,769\n",
            "Non-trainable params: 0\n",
            "_________________________________________________________________\n"
          ],
          "name": "stdout"
        }
      ]
    },
    {
      "cell_type": "code",
      "metadata": {
        "id": "mZKGrN-vxgUB",
        "colab_type": "code",
        "outputId": "479e7b18-87ea-492c-cbf5-7bb67f92b642",
        "colab": {
          "base_uri": "https://localhost:8080/",
          "height": 35
        }
      },
      "source": [
        "test_model.load_weights(\"/gdrive/My Drive/plant1/my_model.h5\")\n",
        "test_model"
      ],
      "execution_count": 0,
      "outputs": [
        {
          "output_type": "execute_result",
          "data": {
            "text/plain": [
              "<tensorflow.python.keras.engine.sequential.Sequential at 0x7fd86a6eb278>"
            ]
          },
          "metadata": {
            "tags": []
          },
          "execution_count": 32
        }
      ]
    }
  ]
}