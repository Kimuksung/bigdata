{
  "nbformat": 4,
  "nbformat_minor": 0,
  "metadata": {
    "colab": {
      "name": "lstm_linearegression.ipynb",
      "provenance": [],
      "collapsed_sections": []
    },
    "kernelspec": {
      "name": "python3",
      "display_name": "Python 3"
    }
  },
  "cells": [
    {
      "cell_type": "code",
      "metadata": {
        "id": "GPxyUz7h5qWm",
        "colab_type": "code",
        "colab": {
          "base_uri": "https://localhost:8080/",
          "height": 125
        },
        "outputId": "945dd7ed-b7c9-40e0-8e01-b650aab2bc85"
      },
      "source": [
        "from google.colab import drive\n",
        "drive.mount('/gdrive', force_remount=True)"
      ],
      "execution_count": 1,
      "outputs": [
        {
          "output_type": "stream",
          "text": [
            "Go to this URL in a browser: https://accounts.google.com/o/oauth2/auth?client_id=947318989803-6bn6qk8qdgf4n4g3pfee6491hc0brc4i.apps.googleusercontent.com&redirect_uri=urn%3aietf%3awg%3aoauth%3a2.0%3aoob&response_type=code&scope=email%20https%3a%2f%2fwww.googleapis.com%2fauth%2fdocs.test%20https%3a%2f%2fwww.googleapis.com%2fauth%2fdrive%20https%3a%2f%2fwww.googleapis.com%2fauth%2fdrive.photos.readonly%20https%3a%2f%2fwww.googleapis.com%2fauth%2fpeopleapi.readonly\n",
            "\n",
            "Enter your authorization code:\n",
            "··········\n",
            "Mounted at /gdrive\n"
          ],
          "name": "stdout"
        }
      ]
    },
    {
      "cell_type": "code",
      "metadata": {
        "id": "kwZsDSJM53Gd",
        "colab_type": "code",
        "colab": {}
      },
      "source": [
        "import pandas as pd\n",
        "import numpy as np\n",
        "\n",
        "df = pd.read_csv('/gdrive/My Drive/samsung/mealData_meal_train2.csv',engine='python',encoding='euc-kr', dtype={'trade_price_idx_value':'float'}) \n",
        "#/content/drive/My Drive/samsung/mealData_meal_test.csv\n",
        "df2 = pd.read_csv('/gdrive/My Drive/samsung/mealData_meal_test.csv',engine='python',encoding='euc-kr', dtype={'trade_price_idx_value':'float'}) "
      ],
      "execution_count": 0,
      "outputs": []
    },
    {
      "cell_type": "markdown",
      "metadata": {
        "id": "fZeXDPuv6GJU",
        "colab_type": "text"
      },
      "source": [
        "평일 Data만 추출"
      ]
    },
    {
      "cell_type": "code",
      "metadata": {
        "id": "3Wppmlzv6NUz",
        "colab_type": "code",
        "colab": {}
      },
      "source": [
        "df['weekday'] = pd.to_datetime(df[\"SELL_DATE\"]).dt.dayofweek\n",
        "df=df[df['weekday']!= 5]\n",
        "\n",
        "df2['weekday'] = pd.to_datetime(df2[\"SELL_DATE\"]).dt.dayofweek\n",
        "df2=df2[df2['weekday']!= 5]"
      ],
      "execution_count": 0,
      "outputs": []
    },
    {
      "cell_type": "code",
      "metadata": {
        "id": "Hax0Q0FM6d30",
        "colab_type": "code",
        "colab": {}
      },
      "source": [
        "train = df.groupby('SELL_DATE').sum()['QUANTITY']\n",
        "test = df2.groupby('SELL_DATE').sum()['QUANTITY']\n",
        "\n",
        "a = list(set(df.SELL_DATE))\n",
        "a.sort()\n",
        "\n",
        "trainset ={'SELL_DATE': a , \"QUANTITY\":list(train)}\n",
        "trainset = pd.DataFrame(trainset)\n",
        "trainset['SELL_DATE'] = pd.to_datetime(trainset.SELL_DATE)\n",
        "trainset.sort_values(by = ['SELL_DATE'], inplace=True, ascending=True)\n",
        "\n",
        "a = list(set(df2.SELL_DATE))\n",
        "a.sort()\n",
        "\n",
        "testset ={'SELL_DATE': a , \"QUANTITY\":list(test)}\n",
        "testset = pd.DataFrame(testset)\n",
        "testset['SELL_DATE'] = pd.to_datetime(testset.SELL_DATE)\n",
        "testset.sort_values(by = ['SELL_DATE'], inplace=True, ascending=True)"
      ],
      "execution_count": 0,
      "outputs": []
    },
    {
      "cell_type": "markdown",
      "metadata": {
        "id": "WPoG9SoS6ysr",
        "colab_type": "text"
      },
      "source": [
        "공휴일 Na값 -> 평균 값"
      ]
    },
    {
      "cell_type": "code",
      "metadata": {
        "id": "L3G8t9Fw6247",
        "colab_type": "code",
        "colab": {}
      },
      "source": [
        "mean = int(train.mean())\n",
        "mean2 = int(test.mean())\n",
        "train_holiday = ['2018-01-01','2018-02-15','2018-02-16','2018-03-01','2018-05-22','2018-06-06','2018-08-15',\n",
        "           '2018-09-24','2018-09-25','2018-10-03','2018-10-09','2018-12-25','2019-01-01',\n",
        "           '2019-02-04','2019-02-05','2019-02-06','2019-03-01']\n",
        "test_holiday = ['2019-06-06']\n",
        "\n",
        "temp = {\"SELL_DATE\": train_holiday , \"QUANTITY\":mean}\n",
        "temp = pd.DataFrame(temp)\n",
        "\n",
        "temp['SELL_DATE'] = pd.to_datetime(temp.SELL_DATE)\n",
        "trainset = trainset.append(temp,ignore_index=True)\n",
        "trainset.sort_values(by = ['SELL_DATE'], inplace=True, ascending=True)\n",
        "\n",
        "temp2 = {\"SELL_DATE\":test_holiday , \"QUANTITY\":mean2}\n",
        "temp2 = pd.DataFrame(temp2)\n",
        "temp2['SELL_DATE'] = pd.to_datetime(temp2.SELL_DATE)\n",
        "testset = testset.append(temp2,ignore_index=True)\n",
        "testset.sort_values(by = ['SELL_DATE'], inplace=True, ascending=True)\n",
        "testset"
      ],
      "execution_count": 0,
      "outputs": []
    },
    {
      "cell_type": "code",
      "metadata": {
        "id": "EFqHayuW7eNF",
        "colab_type": "code",
        "colab": {}
      },
      "source": [
        "trainset.set_index(trainset['SELL_DATE'],inplace=True)\n",
        "trainset = trainset.drop(['SELL_DATE'],axis=1)\n",
        "\n",
        "testset.set_index(testset['SELL_DATE'],inplace=True)\n",
        "testset = testset.drop(['SELL_DATE'],axis=1)\n",
        "\n",
        "trainset.info()"
      ],
      "execution_count": 0,
      "outputs": []
    },
    {
      "cell_type": "code",
      "metadata": {
        "id": "6mleH1jC7pyE",
        "colab_type": "code",
        "colab": {}
      },
      "source": [
        "from sklearn.preprocessing import MinMaxScaler\n",
        "\n",
        "sc = MinMaxScaler()\n",
        "\n",
        "train_sc = sc.fit_transform(trainset)\n",
        "test_sc = sc.transform(testset)"
      ],
      "execution_count": 0,
      "outputs": []
    },
    {
      "cell_type": "code",
      "metadata": {
        "id": "yfGWGZdT72sD",
        "colab_type": "code",
        "colab": {}
      },
      "source": [
        "train_sc_df = pd.DataFrame(train_sc, columns=['QUANTITY'], index=trainset.index)\n",
        "test_sc_df = pd.DataFrame(test_sc, columns=['QUANTITY'], index=testset.index)\n",
        "train_sc_df.head()"
      ],
      "execution_count": 0,
      "outputs": []
    },
    {
      "cell_type": "markdown",
      "metadata": {
        "id": "PC_QktLH78-z",
        "colab_type": "text"
      },
      "source": [
        "일주일 단위 -> 평일만 (5일)"
      ]
    },
    {
      "cell_type": "code",
      "metadata": {
        "id": "8NTNnbGo8DXD",
        "colab_type": "code",
        "colab": {
          "base_uri": "https://localhost:8080/",
          "height": 467
        },
        "outputId": "6a6043cb-0108-4a62-f018-aaedb836bdb3"
      },
      "source": [
        "for s in range(1, 6):\n",
        "    train_sc_df['shift_{}'.format(s)] = train_sc_df['QUANTITY'].shift(s)\n",
        "    test_sc_df['shift_{}'.format(s)] = test_sc_df['QUANTITY'].shift(s)\n",
        "train_sc_df.head(13)"
      ],
      "execution_count": 9,
      "outputs": [
        {
          "output_type": "execute_result",
          "data": {
            "text/html": [
              "<div>\n",
              "<style scoped>\n",
              "    .dataframe tbody tr th:only-of-type {\n",
              "        vertical-align: middle;\n",
              "    }\n",
              "\n",
              "    .dataframe tbody tr th {\n",
              "        vertical-align: top;\n",
              "    }\n",
              "\n",
              "    .dataframe thead th {\n",
              "        text-align: right;\n",
              "    }\n",
              "</style>\n",
              "<table border=\"1\" class=\"dataframe\">\n",
              "  <thead>\n",
              "    <tr style=\"text-align: right;\">\n",
              "      <th></th>\n",
              "      <th>QUANTITY</th>\n",
              "      <th>shift_1</th>\n",
              "      <th>shift_2</th>\n",
              "      <th>shift_3</th>\n",
              "      <th>shift_4</th>\n",
              "      <th>shift_5</th>\n",
              "    </tr>\n",
              "    <tr>\n",
              "      <th>SELL_DATE</th>\n",
              "      <th></th>\n",
              "      <th></th>\n",
              "      <th></th>\n",
              "      <th></th>\n",
              "      <th></th>\n",
              "      <th></th>\n",
              "    </tr>\n",
              "  </thead>\n",
              "  <tbody>\n",
              "    <tr>\n",
              "      <th>2018-01-01</th>\n",
              "      <td>0.700670</td>\n",
              "      <td>NaN</td>\n",
              "      <td>NaN</td>\n",
              "      <td>NaN</td>\n",
              "      <td>NaN</td>\n",
              "      <td>NaN</td>\n",
              "    </tr>\n",
              "    <tr>\n",
              "      <th>2018-01-02</th>\n",
              "      <td>0.770115</td>\n",
              "      <td>0.700670</td>\n",
              "      <td>NaN</td>\n",
              "      <td>NaN</td>\n",
              "      <td>NaN</td>\n",
              "      <td>NaN</td>\n",
              "    </tr>\n",
              "    <tr>\n",
              "      <th>2018-01-03</th>\n",
              "      <td>0.753831</td>\n",
              "      <td>0.770115</td>\n",
              "      <td>0.700670</td>\n",
              "      <td>NaN</td>\n",
              "      <td>NaN</td>\n",
              "      <td>NaN</td>\n",
              "    </tr>\n",
              "    <tr>\n",
              "      <th>2018-01-04</th>\n",
              "      <td>0.669540</td>\n",
              "      <td>0.753831</td>\n",
              "      <td>0.770115</td>\n",
              "      <td>0.700670</td>\n",
              "      <td>NaN</td>\n",
              "      <td>NaN</td>\n",
              "    </tr>\n",
              "    <tr>\n",
              "      <th>2018-01-05</th>\n",
              "      <td>0.585249</td>\n",
              "      <td>0.669540</td>\n",
              "      <td>0.753831</td>\n",
              "      <td>0.770115</td>\n",
              "      <td>0.700670</td>\n",
              "      <td>NaN</td>\n",
              "    </tr>\n",
              "    <tr>\n",
              "      <th>2018-01-08</th>\n",
              "      <td>0.815613</td>\n",
              "      <td>0.585249</td>\n",
              "      <td>0.669540</td>\n",
              "      <td>0.753831</td>\n",
              "      <td>0.770115</td>\n",
              "      <td>0.700670</td>\n",
              "    </tr>\n",
              "    <tr>\n",
              "      <th>2018-01-09</th>\n",
              "      <td>0.731801</td>\n",
              "      <td>0.815613</td>\n",
              "      <td>0.585249</td>\n",
              "      <td>0.669540</td>\n",
              "      <td>0.753831</td>\n",
              "      <td>0.770115</td>\n",
              "    </tr>\n",
              "    <tr>\n",
              "      <th>2018-01-10</th>\n",
              "      <td>0.723659</td>\n",
              "      <td>0.731801</td>\n",
              "      <td>0.815613</td>\n",
              "      <td>0.585249</td>\n",
              "      <td>0.669540</td>\n",
              "      <td>0.753831</td>\n",
              "    </tr>\n",
              "    <tr>\n",
              "      <th>2018-01-11</th>\n",
              "      <td>0.633621</td>\n",
              "      <td>0.723659</td>\n",
              "      <td>0.731801</td>\n",
              "      <td>0.815613</td>\n",
              "      <td>0.585249</td>\n",
              "      <td>0.669540</td>\n",
              "    </tr>\n",
              "    <tr>\n",
              "      <th>2018-01-12</th>\n",
              "      <td>0.692050</td>\n",
              "      <td>0.633621</td>\n",
              "      <td>0.723659</td>\n",
              "      <td>0.731801</td>\n",
              "      <td>0.815613</td>\n",
              "      <td>0.585249</td>\n",
              "    </tr>\n",
              "    <tr>\n",
              "      <th>2018-01-15</th>\n",
              "      <td>0.841475</td>\n",
              "      <td>0.692050</td>\n",
              "      <td>0.633621</td>\n",
              "      <td>0.723659</td>\n",
              "      <td>0.731801</td>\n",
              "      <td>0.815613</td>\n",
              "    </tr>\n",
              "    <tr>\n",
              "      <th>2018-01-16</th>\n",
              "      <td>0.767241</td>\n",
              "      <td>0.841475</td>\n",
              "      <td>0.692050</td>\n",
              "      <td>0.633621</td>\n",
              "      <td>0.723659</td>\n",
              "      <td>0.731801</td>\n",
              "    </tr>\n",
              "    <tr>\n",
              "      <th>2018-01-17</th>\n",
              "      <td>0.721264</td>\n",
              "      <td>0.767241</td>\n",
              "      <td>0.841475</td>\n",
              "      <td>0.692050</td>\n",
              "      <td>0.633621</td>\n",
              "      <td>0.723659</td>\n",
              "    </tr>\n",
              "  </tbody>\n",
              "</table>\n",
              "</div>"
            ],
            "text/plain": [
              "            QUANTITY   shift_1   shift_2   shift_3   shift_4   shift_5\n",
              "SELL_DATE                                                             \n",
              "2018-01-01  0.700670       NaN       NaN       NaN       NaN       NaN\n",
              "2018-01-02  0.770115  0.700670       NaN       NaN       NaN       NaN\n",
              "2018-01-03  0.753831  0.770115  0.700670       NaN       NaN       NaN\n",
              "2018-01-04  0.669540  0.753831  0.770115  0.700670       NaN       NaN\n",
              "2018-01-05  0.585249  0.669540  0.753831  0.770115  0.700670       NaN\n",
              "2018-01-08  0.815613  0.585249  0.669540  0.753831  0.770115  0.700670\n",
              "2018-01-09  0.731801  0.815613  0.585249  0.669540  0.753831  0.770115\n",
              "2018-01-10  0.723659  0.731801  0.815613  0.585249  0.669540  0.753831\n",
              "2018-01-11  0.633621  0.723659  0.731801  0.815613  0.585249  0.669540\n",
              "2018-01-12  0.692050  0.633621  0.723659  0.731801  0.815613  0.585249\n",
              "2018-01-15  0.841475  0.692050  0.633621  0.723659  0.731801  0.815613\n",
              "2018-01-16  0.767241  0.841475  0.692050  0.633621  0.723659  0.731801\n",
              "2018-01-17  0.721264  0.767241  0.841475  0.692050  0.633621  0.723659"
            ]
          },
          "metadata": {
            "tags": []
          },
          "execution_count": 9
        }
      ]
    },
    {
      "cell_type": "code",
      "metadata": {
        "id": "vxu5b2n38V9s",
        "colab_type": "code",
        "colab": {}
      },
      "source": [
        "X_train = train_sc_df.dropna().drop('QUANTITY', axis=1)\n",
        "y_train = train_sc_df.dropna()[['QUANTITY']] \n",
        "\n",
        "X_test = test_sc_df.dropna().drop('QUANTITY', axis=1)\n",
        "y_test = test_sc_df.dropna()[['QUANTITY']]"
      ],
      "execution_count": 0,
      "outputs": []
    },
    {
      "cell_type": "code",
      "metadata": {
        "id": "jNlbu-5G8lRs",
        "colab_type": "code",
        "colab": {}
      },
      "source": [
        "X_train = X_train.values #(354, 5)\n",
        "X_test= X_test.values \n",
        "y_train = y_train.values#(354, 1)\n",
        "y_test = y_test.values\n",
        "\n",
        "X_train_t = X_train.reshape(X_train.shape[0], 5, 1)\n",
        "X_test_t = X_test.reshape(X_test.shape[0], 5, 1)"
      ],
      "execution_count": 0,
      "outputs": []
    },
    {
      "cell_type": "code",
      "metadata": {
        "id": "bBcPhgzo9KGM",
        "colab_type": "code",
        "colab": {
          "base_uri": "https://localhost:8080/",
          "height": 230
        },
        "outputId": "2125453d-fb41-4392-fdb7-b81aa6668ebb"
      },
      "source": [
        "from keras.layers import LSTM \n",
        "from keras.models import Sequential \n",
        "from keras.layers import Dense , Activation\n",
        "import keras.backend as K \n",
        "from keras.callbacks import EarlyStopping\n",
        "\n",
        "K.clear_session()\n",
        "    \n",
        "model = Sequential() # Sequeatial Model \n",
        "model.add(LSTM(5, input_shape=(5, 1))) # (timestep, feature)\n",
        "model.add(Dense(1)) # output = 1 \n",
        "model.compile(loss='mean_squared_error', optimizer='adam')\n",
        " \n",
        "model.summary()"
      ],
      "execution_count": 131,
      "outputs": [
        {
          "output_type": "stream",
          "text": [
            "Model: \"sequential_1\"\n",
            "_________________________________________________________________\n",
            "Layer (type)                 Output Shape              Param #   \n",
            "=================================================================\n",
            "lstm_1 (LSTM)                (None, 5)                 140       \n",
            "_________________________________________________________________\n",
            "dense_1 (Dense)              (None, 1)                 6         \n",
            "=================================================================\n",
            "Total params: 146\n",
            "Trainable params: 146\n",
            "Non-trainable params: 0\n",
            "_________________________________________________________________\n"
          ],
          "name": "stdout"
        }
      ]
    },
    {
      "cell_type": "code",
      "metadata": {
        "id": "jxJ_UjSH9b5C",
        "colab_type": "code",
        "colab": {
          "base_uri": "https://localhost:8080/",
          "height": 481
        },
        "outputId": "2bf60cc8-66e0-4a19-c9b7-cf544f33338f"
      },
      "source": [
        "early_stop = EarlyStopping(monitor='loss', patience=1, verbose=1)\n",
        "model.fit(X_train_t, y_train, epochs=5,\n",
        "          batch_size=5, verbose=1, callbacks=[early_stop])"
      ],
      "execution_count": 128,
      "outputs": [
        {
          "output_type": "error",
          "ename": "ValueError",
          "evalue": "ignored",
          "traceback": [
            "\u001b[0;31m---------------------------------------------------------------------------\u001b[0m",
            "\u001b[0;31mValueError\u001b[0m                                Traceback (most recent call last)",
            "\u001b[0;32m<ipython-input-128-30faf9e2a06c>\u001b[0m in \u001b[0;36m<module>\u001b[0;34m()\u001b[0m\n\u001b[1;32m      1\u001b[0m \u001b[0mearly_stop\u001b[0m \u001b[0;34m=\u001b[0m \u001b[0mEarlyStopping\u001b[0m\u001b[0;34m(\u001b[0m\u001b[0mmonitor\u001b[0m\u001b[0;34m=\u001b[0m\u001b[0;34m'loss'\u001b[0m\u001b[0;34m,\u001b[0m \u001b[0mpatience\u001b[0m\u001b[0;34m=\u001b[0m\u001b[0;36m1\u001b[0m\u001b[0;34m,\u001b[0m \u001b[0mverbose\u001b[0m\u001b[0;34m=\u001b[0m\u001b[0;36m1\u001b[0m\u001b[0;34m)\u001b[0m\u001b[0;34m\u001b[0m\u001b[0;34m\u001b[0m\u001b[0m\n\u001b[1;32m      2\u001b[0m model.fit(X_train_t, y_train, epochs=5,\n\u001b[0;32m----> 3\u001b[0;31m           batch_size=1, verbose=1, callbacks=[early_stop])\n\u001b[0m",
            "\u001b[0;32m/usr/local/lib/python3.6/dist-packages/keras/engine/training.py\u001b[0m in \u001b[0;36mfit\u001b[0;34m(self, x, y, batch_size, epochs, verbose, callbacks, validation_split, validation_data, shuffle, class_weight, sample_weight, initial_epoch, steps_per_epoch, validation_steps, validation_freq, max_queue_size, workers, use_multiprocessing, **kwargs)\u001b[0m\n\u001b[1;32m   1152\u001b[0m             \u001b[0msample_weight\u001b[0m\u001b[0;34m=\u001b[0m\u001b[0msample_weight\u001b[0m\u001b[0;34m,\u001b[0m\u001b[0;34m\u001b[0m\u001b[0;34m\u001b[0m\u001b[0m\n\u001b[1;32m   1153\u001b[0m             \u001b[0mclass_weight\u001b[0m\u001b[0;34m=\u001b[0m\u001b[0mclass_weight\u001b[0m\u001b[0;34m,\u001b[0m\u001b[0;34m\u001b[0m\u001b[0;34m\u001b[0m\u001b[0m\n\u001b[0;32m-> 1154\u001b[0;31m             batch_size=batch_size)\n\u001b[0m\u001b[1;32m   1155\u001b[0m \u001b[0;34m\u001b[0m\u001b[0m\n\u001b[1;32m   1156\u001b[0m         \u001b[0;31m# Prepare validation data.\u001b[0m\u001b[0;34m\u001b[0m\u001b[0;34m\u001b[0m\u001b[0;34m\u001b[0m\u001b[0m\n",
            "\u001b[0;32m/usr/local/lib/python3.6/dist-packages/keras/engine/training.py\u001b[0m in \u001b[0;36m_standardize_user_data\u001b[0;34m(self, x, y, sample_weight, class_weight, check_array_lengths, batch_size)\u001b[0m\n\u001b[1;32m    640\u001b[0m                 \u001b[0;31m# using improper loss fns.\u001b[0m\u001b[0;34m\u001b[0m\u001b[0;34m\u001b[0m\u001b[0;34m\u001b[0m\u001b[0m\n\u001b[1;32m    641\u001b[0m                 training_utils.check_loss_and_target_compatibility(\n\u001b[0;32m--> 642\u001b[0;31m                     y, self._feed_loss_fns, feed_output_shapes)\n\u001b[0m\u001b[1;32m    643\u001b[0m         \u001b[0;32melse\u001b[0m\u001b[0;34m:\u001b[0m\u001b[0;34m\u001b[0m\u001b[0;34m\u001b[0m\u001b[0m\n\u001b[1;32m    644\u001b[0m             \u001b[0my\u001b[0m \u001b[0;34m=\u001b[0m \u001b[0;34m[\u001b[0m\u001b[0;34m]\u001b[0m\u001b[0;34m\u001b[0m\u001b[0;34m\u001b[0m\u001b[0m\n",
            "\u001b[0;32m/usr/local/lib/python3.6/dist-packages/keras/engine/training_utils.py\u001b[0m in \u001b[0;36mcheck_loss_and_target_compatibility\u001b[0;34m(targets, loss_fns, output_shapes)\u001b[0m\n\u001b[1;32m    282\u001b[0m                 raise ValueError(\n\u001b[1;32m    283\u001b[0m                     \u001b[0;34m'You are passing a target array of shape '\u001b[0m \u001b[0;34m+\u001b[0m \u001b[0mstr\u001b[0m\u001b[0;34m(\u001b[0m\u001b[0my\u001b[0m\u001b[0;34m.\u001b[0m\u001b[0mshape\u001b[0m\u001b[0;34m)\u001b[0m \u001b[0;34m+\u001b[0m\u001b[0;34m\u001b[0m\u001b[0;34m\u001b[0m\u001b[0m\n\u001b[0;32m--> 284\u001b[0;31m                     \u001b[0;34m' while using as loss `categorical_crossentropy`. '\u001b[0m\u001b[0;34m\u001b[0m\u001b[0;34m\u001b[0m\u001b[0m\n\u001b[0m\u001b[1;32m    285\u001b[0m                     \u001b[0;34m'`categorical_crossentropy` expects '\u001b[0m\u001b[0;34m\u001b[0m\u001b[0;34m\u001b[0m\u001b[0m\n\u001b[1;32m    286\u001b[0m                     \u001b[0;34m'targets to be binary matrices (1s and 0s) '\u001b[0m\u001b[0;34m\u001b[0m\u001b[0;34m\u001b[0m\u001b[0m\n",
            "\u001b[0;31mValueError\u001b[0m: You are passing a target array of shape (354, 1) while using as loss `categorical_crossentropy`. `categorical_crossentropy` expects targets to be binary matrices (1s and 0s) of shape (samples, classes). If your targets are integer classes, you can convert them to the expected format via:\n```\nfrom keras.utils import to_categorical\ny_binary = to_categorical(y_int)\n```\n\nAlternatively, you can use the loss function `sparse_categorical_crossentropy` instead, which does expect integer targets."
          ]
        }
      ]
    },
    {
      "cell_type": "code",
      "metadata": {
        "id": "TfZNLRaT9fCq",
        "colab_type": "code",
        "colab": {
          "base_uri": "https://localhost:8080/",
          "height": 287
        },
        "outputId": "f96cd697-e21e-4c72-f83b-8a4d2e4376fc"
      },
      "source": [
        "train_sc_df.describe()"
      ],
      "execution_count": 54,
      "outputs": [
        {
          "output_type": "execute_result",
          "data": {
            "text/html": [
              "<div>\n",
              "<style scoped>\n",
              "    .dataframe tbody tr th:only-of-type {\n",
              "        vertical-align: middle;\n",
              "    }\n",
              "\n",
              "    .dataframe tbody tr th {\n",
              "        vertical-align: top;\n",
              "    }\n",
              "\n",
              "    .dataframe thead th {\n",
              "        text-align: right;\n",
              "    }\n",
              "</style>\n",
              "<table border=\"1\" class=\"dataframe\">\n",
              "  <thead>\n",
              "    <tr style=\"text-align: right;\">\n",
              "      <th></th>\n",
              "      <th>QUANTITY</th>\n",
              "      <th>shift_1</th>\n",
              "      <th>shift_2</th>\n",
              "      <th>shift_3</th>\n",
              "      <th>shift_4</th>\n",
              "      <th>shift_5</th>\n",
              "    </tr>\n",
              "  </thead>\n",
              "  <tbody>\n",
              "    <tr>\n",
              "      <th>count</th>\n",
              "      <td>359.000000</td>\n",
              "      <td>358.000000</td>\n",
              "      <td>357.000000</td>\n",
              "      <td>356.000000</td>\n",
              "      <td>355.000000</td>\n",
              "      <td>354.000000</td>\n",
              "    </tr>\n",
              "    <tr>\n",
              "      <th>mean</th>\n",
              "      <td>0.700997</td>\n",
              "      <td>0.701143</td>\n",
              "      <td>0.700947</td>\n",
              "      <td>0.700615</td>\n",
              "      <td>0.700054</td>\n",
              "      <td>0.699207</td>\n",
              "    </tr>\n",
              "    <tr>\n",
              "      <th>std</th>\n",
              "      <td>0.138333</td>\n",
              "      <td>0.138500</td>\n",
              "      <td>0.138644</td>\n",
              "      <td>0.138698</td>\n",
              "      <td>0.138488</td>\n",
              "      <td>0.137759</td>\n",
              "    </tr>\n",
              "    <tr>\n",
              "      <th>min</th>\n",
              "      <td>0.000000</td>\n",
              "      <td>0.000000</td>\n",
              "      <td>0.000000</td>\n",
              "      <td>0.000000</td>\n",
              "      <td>0.000000</td>\n",
              "      <td>0.000000</td>\n",
              "    </tr>\n",
              "    <tr>\n",
              "      <th>25%</th>\n",
              "      <td>0.628592</td>\n",
              "      <td>0.627993</td>\n",
              "      <td>0.627395</td>\n",
              "      <td>0.627275</td>\n",
              "      <td>0.627155</td>\n",
              "      <td>0.627035</td>\n",
              "    </tr>\n",
              "    <tr>\n",
              "      <th>50%</th>\n",
              "      <td>0.700670</td>\n",
              "      <td>0.700670</td>\n",
              "      <td>0.700670</td>\n",
              "      <td>0.700670</td>\n",
              "      <td>0.700670</td>\n",
              "      <td>0.700670</td>\n",
              "    </tr>\n",
              "    <tr>\n",
              "      <th>75%</th>\n",
              "      <td>0.782567</td>\n",
              "      <td>0.782807</td>\n",
              "      <td>0.783046</td>\n",
              "      <td>0.782328</td>\n",
              "      <td>0.782088</td>\n",
              "      <td>0.781489</td>\n",
              "    </tr>\n",
              "    <tr>\n",
              "      <th>max</th>\n",
              "      <td>1.000000</td>\n",
              "      <td>1.000000</td>\n",
              "      <td>1.000000</td>\n",
              "      <td>1.000000</td>\n",
              "      <td>1.000000</td>\n",
              "      <td>0.988985</td>\n",
              "    </tr>\n",
              "  </tbody>\n",
              "</table>\n",
              "</div>"
            ],
            "text/plain": [
              "         QUANTITY     shift_1     shift_2     shift_3     shift_4     shift_5\n",
              "count  359.000000  358.000000  357.000000  356.000000  355.000000  354.000000\n",
              "mean     0.700997    0.701143    0.700947    0.700615    0.700054    0.699207\n",
              "std      0.138333    0.138500    0.138644    0.138698    0.138488    0.137759\n",
              "min      0.000000    0.000000    0.000000    0.000000    0.000000    0.000000\n",
              "25%      0.628592    0.627993    0.627395    0.627275    0.627155    0.627035\n",
              "50%      0.700670    0.700670    0.700670    0.700670    0.700670    0.700670\n",
              "75%      0.782567    0.782807    0.783046    0.782328    0.782088    0.781489\n",
              "max      1.000000    1.000000    1.000000    1.000000    1.000000    0.988985"
            ]
          },
          "metadata": {
            "tags": []
          },
          "execution_count": 54
        }
      ]
    },
    {
      "cell_type": "code",
      "metadata": {
        "id": "sebJwLXJ9hj0",
        "colab_type": "code",
        "colab": {
          "base_uri": "https://localhost:8080/",
          "height": 323
        },
        "outputId": "7af45902-836b-4a72-9b18-df1f06a8f9b3"
      },
      "source": [
        "import matplotlib.pyplot as plt\n",
        "y_pred = model.predict(X_test_t, batch_size=5)\n",
        "plt.scatter(y_test, y_pred)\n",
        "plt.xlabel(\"real_data : $Y_i$\")\n",
        "plt.ylabel(\"modeling predict: $\\hat{Y}_i$\")\n",
        "plt.title(\"real_data vs lstm predict: $Y_i$ vs $\\hat{Y}_i$\")"
      ],
      "execution_count": 121,
      "outputs": [
        {
          "output_type": "execute_result",
          "data": {
            "text/plain": [
              "Text(0.5, 1.0, 'real_data vs lstm predict: $Y_i$ vs $\\\\hat{Y}_i$')"
            ]
          },
          "metadata": {
            "tags": []
          },
          "execution_count": 121
        },
        {
          "output_type": "display_data",
          "data": {
            "image/png": "[encoded data removed]",
            "text/plain": [
              "<Figure size 432x288 with 1 Axes>"
            ]
          },
          "metadata": {
            "tags": [],
            "needs_background": "light"
          }
        }
      ]
    },
    {
      "cell_type": "code",
      "metadata": {
        "id": "4y9DuRvP9o8E",
        "colab_type": "code",
        "colab": {
          "base_uri": "https://localhost:8080/",
          "height": 52
        },
        "outputId": "d2979413-4e3a-48cc-8e46-3487d4a0df03"
      },
      "source": [
        "from sklearn.metrics import mean_squared_error , r2_score\n",
        "print(\"mse :\",mean_squared_error(y_test, y_pred))\n",
        "print(\"r^2 : \",r2_score(y_test, y_pred))"
      ],
      "execution_count": 122,
      "outputs": [
        {
          "output_type": "stream",
          "text": [
            "mse : 0.020767007252513934\n",
            "r^2 :  0.04411483441075037\n"
          ],
          "name": "stdout"
        }
      ]
    },
    {
      "cell_type": "markdown",
      "metadata": {
        "id": "mQflB7r3-pAk",
        "colab_type": "text"
      },
      "source": [
        "--- Linear regresssion---\n"
      ]
    },
    {
      "cell_type": "code",
      "metadata": {
        "id": "zJnB-9QG-uQ7",
        "colab_type": "code",
        "colab": {
          "base_uri": "https://localhost:8080/",
          "height": 52
        },
        "outputId": "017330ea-07ba-49f9-f8b2-732ad5609492"
      },
      "source": [
        "from sklearn.linear_model import LinearRegression\n",
        "obj = LinearRegression()\n",
        "lrmodel = obj.fit(X_train , y_train)\n",
        "y_lr_predict = lrmodel.predict(X_test)\n",
        "y_lr_predict\n",
        "print(\"mse :\",mean_squared_error(y_test, y_lr_predict))\n",
        "print(\"r^2 : \",r2_score(y_test, y_lr_predict))"
      ],
      "execution_count": 123,
      "outputs": [
        {
          "output_type": "stream",
          "text": [
            "mse : 0.02212410240043566\n",
            "r^2 :  -0.018350936627803627\n"
          ],
          "name": "stdout"
        }
      ]
    },
    {
      "cell_type": "code",
      "metadata": {
        "id": "-oabvGJ-JESK",
        "colab_type": "code",
        "colab": {
          "base_uri": "https://localhost:8080/",
          "height": 323
        },
        "outputId": "1c5b2597-17e8-4a84-ab9d-e3cbae1570ab"
      },
      "source": [
        "plt.scatter(y_test, y_lr_predict)\n",
        "plt.xlabel(\"real_data : $Y_i$\")\n",
        "plt.ylabel(\"modeling predict: $\\hat{Y}_i$\")\n",
        "plt.title(\"real_data vs Linearregression predict: $Y_i$ vs $\\hat{Y}_i$\")"
      ],
      "execution_count": 75,
      "outputs": [
        {
          "output_type": "execute_result",
          "data": {
            "text/plain": [
              "Text(0.5, 1.0, 'real_data vs Linearregression predict: $Y_i$ vs $\\\\hat{Y}_i$')"
            ]
          },
          "metadata": {
            "tags": []
          },
          "execution_count": 75
        },
        {
          "output_type": "display_data",
          "data": {
            "image/png": "[encoded data removed]",
            "text/plain": [
              "<Figure size 432x288 with 1 Axes>"
            ]
          },
          "metadata": {
            "tags": [],
            "needs_background": "light"
          }
        }
      ]
    },
    {
      "cell_type": "code",
      "metadata": {
        "id": "YJz088N1DZVt",
        "colab_type": "code",
        "colab": {
          "base_uri": "https://localhost:8080/",
          "height": 137
        },
        "outputId": "ba3a3bff-7216-488b-f63b-5ab4d852553a"
      },
      "source": [
        "df = pd.DataFrame({'real': y_test.reshape(43) , 'lstm': y_pred.reshape(43), 'linearregression': y_lr_predict.reshape(43)})\n",
        "df.corr()"
      ],
      "execution_count": 103,
      "outputs": [
        {
          "output_type": "execute_result",
          "data": {
            "text/html": [
              "<div>\n",
              "<style scoped>\n",
              "    .dataframe tbody tr th:only-of-type {\n",
              "        vertical-align: middle;\n",
              "    }\n",
              "\n",
              "    .dataframe tbody tr th {\n",
              "        vertical-align: top;\n",
              "    }\n",
              "\n",
              "    .dataframe thead th {\n",
              "        text-align: right;\n",
              "    }\n",
              "</style>\n",
              "<table border=\"1\" class=\"dataframe\">\n",
              "  <thead>\n",
              "    <tr style=\"text-align: right;\">\n",
              "      <th></th>\n",
              "      <th>real</th>\n",
              "      <th>lstm</th>\n",
              "      <th>linearregression</th>\n",
              "    </tr>\n",
              "  </thead>\n",
              "  <tbody>\n",
              "    <tr>\n",
              "      <th>real</th>\n",
              "      <td>1.000000</td>\n",
              "      <td>0.135553</td>\n",
              "      <td>0.160788</td>\n",
              "    </tr>\n",
              "    <tr>\n",
              "      <th>lstm</th>\n",
              "      <td>0.135553</td>\n",
              "      <td>1.000000</td>\n",
              "      <td>0.821281</td>\n",
              "    </tr>\n",
              "    <tr>\n",
              "      <th>linearregression</th>\n",
              "      <td>0.160788</td>\n",
              "      <td>0.821281</td>\n",
              "      <td>1.000000</td>\n",
              "    </tr>\n",
              "  </tbody>\n",
              "</table>\n",
              "</div>"
            ],
            "text/plain": [
              "                      real      lstm  linearregression\n",
              "real              1.000000  0.135553          0.160788\n",
              "lstm              0.135553  1.000000          0.821281\n",
              "linearregression  0.160788  0.821281          1.000000"
            ]
          },
          "metadata": {
            "tags": []
          },
          "execution_count": 103
        }
      ]
    },
    {
      "cell_type": "code",
      "metadata": {
        "id": "eZIqGVTON4Hq",
        "colab_type": "code",
        "colab": {
          "base_uri": "https://localhost:8080/",
          "height": 34
        },
        "outputId": "04821287-0734-4592-ea5b-7cca7d342d90"
      },
      "source": [
        "df.columns"
      ],
      "execution_count": 134,
      "outputs": [
        {
          "output_type": "execute_result",
          "data": {
            "text/plain": [
              "Index(['SELL_DATE', 'CUSTOMER_ID', 'BRAND', 'MENU', 'PRICE', 'QUANTITY'], dtype='object')"
            ]
          },
          "metadata": {
            "tags": []
          },
          "execution_count": 134
        }
      ]
    }
  ]
}