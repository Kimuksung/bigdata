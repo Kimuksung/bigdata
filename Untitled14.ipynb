{
  "nbformat": 4,
  "nbformat_minor": 0,
  "metadata": {
    "colab": {
      "name": "Untitled14.ipynb",
      "provenance": [],
      "collapsed_sections": [],
      "authorship_tag": "ABX9TyNLlA+ddtvoKo1p0ch7z0d2",
      "include_colab_link": true
    },
    "kernelspec": {
      "name": "python3",
      "display_name": "Python 3"
    }
  },
  "cells": [
    {
      "cell_type": "markdown",
      "metadata": {
        "id": "view-in-github",
        "colab_type": "text"
      },
      "source": [
        "<a href=\"https://colab.research.google.com/github/Kimuksung/bigdata/blob/master/Untitled14.ipynb\" target=\"_parent\"><img src=\"https://colab.research.google.com/assets/colab-badge.svg\" alt=\"Open In Colab\"/></a>"
      ]
    },
    {
      "cell_type": "code",
      "metadata": {
        "id": "t8QLQ0MvJAJ7",
        "colab_type": "code",
        "colab": {
          "base_uri": "https://localhost:8080/",
          "height": 125
        },
        "outputId": "0aee47af-01a7-42b5-8ec2-8f6718132ca5"
      },
      "source": [
        "from google.colab import drive\n",
        "drive.mount('/gdrive', force_remount=True)"
      ],
      "execution_count": 1,
      "outputs": [
        {
          "output_type": "stream",
          "text": [
            "Go to this URL in a browser: https://accounts.google.com/o/oauth2/auth?client_id=947318989803-6bn6qk8qdgf4n4g3pfee6491hc0brc4i.apps.googleusercontent.com&redirect_uri=urn%3aietf%3awg%3aoauth%3a2.0%3aoob&response_type=code&scope=email%20https%3a%2f%2fwww.googleapis.com%2fauth%2fdocs.test%20https%3a%2f%2fwww.googleapis.com%2fauth%2fdrive%20https%3a%2f%2fwww.googleapis.com%2fauth%2fdrive.photos.readonly%20https%3a%2f%2fwww.googleapis.com%2fauth%2fpeopleapi.readonly\n",
            "\n",
            "Enter your authorization code:\n",
            "··········\n",
            "Mounted at /gdrive\n"
          ],
          "name": "stdout"
        }
      ]
    },
    {
      "cell_type": "code",
      "metadata": {
        "id": "tTz8PWItJWcH",
        "colab_type": "code",
        "colab": {}
      },
      "source": [
        "import pandas as pd\n",
        "import numpy as np\n",
        "\n",
        "df1 = pd.read_csv('/gdrive/My Drive/samsung/mealData_meal_train2.csv',engine='python',encoding='euc-kr', dtype={'trade_price_idx_value':'float'}) \n",
        "df2 = pd.read_csv('/gdrive/My Drive/samsung/mealData_meal_test.csv',engine='python',encoding='euc-kr', dtype={'trade_price_idx_value':'float'}) \n",
        "weather = pd.read_csv('/gdrive/My Drive/samsung/weather2.csv',engine='python',encoding='euc-kr', header=None, dtype={'trade_price_idx_value':'float'}) "
      ],
      "execution_count": 314,
      "outputs": []
    },
    {
      "cell_type": "markdown",
      "metadata": {
        "id": "a4ns-VtOQe5a",
        "colab_type": "text"
      },
      "source": [
        "# 목표\n",
        "- 각 브랜드별 하루 취식량을 예측하라\n",
        "- error 측정 / n = 13 개의 브랜드\n",
        "\n",
        "<img src=\"https://wikimedia.org/api/rest_v1/media/math/render/svg/a26cd07ce591210dc494cec532c4dacfdf9153b9\"/> \n",
        "\n",
        "# 전처리\n",
        "- data 서로 합치는 과정 총 3개의 csv파일\n",
        "- 휴일 Date에 관하여 추가적으로 넣어 다음날 휴일이 있는지 여부 추가\n",
        "- str function을 통해 크롤링 과정에서의 문자데이터 수정\n",
        "- 브랜드 별로 나누어 진행"
      ]
    },
    {
      "cell_type": "code",
      "metadata": {
        "id": "iNpwiL7mLDCU",
        "colab_type": "code",
        "colab": {
          "base_uri": "https://localhost:8080/",
          "height": 318
        },
        "outputId": "f3f7bfcb-718b-42a0-c1bc-52d4157e08bf"
      },
      "source": [
        "df = pd.concat([df1 , df2 ] , axis=0)\n",
        "df['weekday'] = pd.to_datetime(df[\"SELL_DATE\"]).dt.dayofweek\n",
        "\n",
        "from datetime import datetime , timedelta\n",
        "holiday = ['2018-02-15','2018-02-16','2018-02-17','2018-03-01','2018-05-05','2018-05-07','2018-05-22','2018-06-06','2018-06-13','2018-08-15','2018-09-23', \n",
        "           '2018-09-24','2018-09-25','2018-09-26','2018-10-03','2018-10-09','2018-12-25','2019-01-01',\n",
        "           '2019-02-04','2019-02-05','2019-02-06','2019-03-01','2019-05-05','2019-05-12','2019-06-06']\n",
        "\n",
        "holiday_bool=[]\n",
        "\n",
        "for date in df['SELL_DATE']:\n",
        "  date = datetime.strptime(date,'%Y-%m-%d') + timedelta(days = 1)\n",
        "  date = date.strftime('%Y-%m-%d')\n",
        "\n",
        "  if date in holiday : \n",
        "    holiday_bool.append(1)\n",
        "  else:\n",
        "    holiday_bool.append(0)\n",
        "\n",
        "df['holiday'] = holiday_bool\n",
        "\n",
        "weather.columns = ([\"SELL_DATE\" , \"Temper\" , \"Rain\"]) \n",
        "SELL_DATE=[]\n",
        "for line in weather[\"SELL_DATE\"]:\n",
        "  line = str(line)\n",
        "  SELL_DATE.append(line.replace(\"/\",\"-\",2))\n",
        "\n",
        "Temper = []\n",
        "for line in weather[\"Temper\"]:\n",
        "  line = line.replace(\"['\" , \"\")\n",
        "  line = line.replace(\"\\']\" , \"\")\n",
        "  line = line.replace(\"평균기온:\" , \"\")\n",
        "  Temper.append(float(line))\n",
        "\n",
        "Rain = []\n",
        "for line in weather[\"Rain\"]:\n",
        "  line = line.replace(\"['\" , \"\")\n",
        "  line = line.replace(\"\\']\" , \"\")\n",
        "  line = line.replace(\"일강수량:\" , \"\")\n",
        "  line = line.replace(\"[]\" , \"0.0\")\n",
        "  Rain.append(float(line))\n",
        "\n",
        "weather.SELL_DATE = SELL_DATE\n",
        "weather.Temper = Temper\n",
        "weather.Rain = Rain\n",
        "\n",
        "df = df.merge(weather , on = \"SELL_DATE\")\n",
        "df.info()"
      ],
      "execution_count": 315,
      "outputs": [
        {
          "output_type": "stream",
          "text": [
            "<class 'pandas.core.frame.DataFrame'>\n",
            "Int64Index: 1169328 entries, 0 to 1169327\n",
            "Data columns (total 10 columns):\n",
            " #   Column       Non-Null Count    Dtype  \n",
            "---  ------       --------------    -----  \n",
            " 0   SELL_DATE    1169328 non-null  object \n",
            " 1   CUSTOMER_ID  1169328 non-null  int64  \n",
            " 2   BRAND        1169328 non-null  object \n",
            " 3   MENU         1169328 non-null  object \n",
            " 4   PRICE        1169328 non-null  int64  \n",
            " 5   QUANTITY     1169328 non-null  int64  \n",
            " 6   weekday      1169328 non-null  int64  \n",
            " 7   holiday      1169328 non-null  int64  \n",
            " 8   Temper       1169328 non-null  float64\n",
            " 9   Rain         1169328 non-null  float64\n",
            "dtypes: float64(2), int64(5), object(3)\n",
            "memory usage: 98.1+ MB\n"
          ],
          "name": "stdout"
        }
      ]
    },
    {
      "cell_type": "code",
      "metadata": {
        "id": "RV7elVFuVQ61",
        "colab_type": "code",
        "colab": {
          "base_uri": "https://localhost:8080/",
          "height": 265
        },
        "outputId": "30673c1f-0304-49bc-9ea9-ebcca51064a6"
      },
      "source": [
        "df.head()\n",
        "df.BRAND.value_counts()\n",
        "# 13개의 category"
      ],
      "execution_count": 316,
      "outputs": [
        {
          "output_type": "execute_result",
          "data": {
            "text/plain": [
              "TakeOut          179677\n",
              "KOREAN1          158375\n",
              "KOREAN2          136316\n",
              "싱푸차이나            107078\n",
              "탕맛기픈              90570\n",
              "가츠엔               87875\n",
              "고슬고슬비빈            85765\n",
              "우리미각면             81177\n",
              "나폴리폴리             65484\n",
              "Western           57649\n",
              "아시안픽스             51687\n",
              "Chef`sCounter     41404\n",
              "스냅스낵              26271\n",
              "Name: BRAND, dtype: int64"
            ]
          },
          "metadata": {
            "tags": []
          },
          "execution_count": 316
        }
      ]
    },
    {
      "cell_type": "code",
      "metadata": {
        "id": "WEub3NHbWHtS",
        "colab_type": "code",
        "colab": {}
      },
      "source": [
        "#Brand1 = df[df.BRAND==\"TakeOut\"]\n",
        "BrandName = df.BRAND.value_counts().index\n",
        "Brand1 = df[df.BRAND==BrandName[0]]\n",
        "Brand2 = df[df.BRAND==BrandName[1]]\n",
        "Brand3 = df[df.BRAND==BrandName[2]]\n",
        "Brand4 = df[df.BRAND==BrandName[3]]\n",
        "Brand5 = df[df.BRAND==BrandName[4]]\n",
        "Brand6 = df[df.BRAND==BrandName[5]]\n",
        "Brand7 = df[df.BRAND==BrandName[6]]\n",
        "Brand8 = df[df.BRAND==BrandName[7]]\n",
        "Brand9 = df[df.BRAND==BrandName[8]]\n",
        "Brand10 = df[df.BRAND==BrandName[9]]\n",
        "Brand11 = df[df.BRAND==BrandName[10]]  \n",
        "Brand12 = df[df.BRAND==BrandName[11]]  \n",
        "Brand13 = df[df.BRAND==BrandName[12]]\n"
      ],
      "execution_count": 317,
      "outputs": []
    },
    {
      "cell_type": "markdown",
      "metadata": {
        "id": "o3iuiz3hTFpq",
        "colab_type": "text"
      },
      "source": [
        "# TakeOut(Brand1)에 대하여 "
      ]
    },
    {
      "cell_type": "code",
      "metadata": {
        "id": "jh4VS6hILRqV",
        "colab_type": "code",
        "colab": {
          "base_uri": "https://localhost:8080/",
          "height": 301
        },
        "outputId": "9ce1f702-824e-4feb-f2ff-e00ee2b62207"
      },
      "source": [
        "Brand1 = Brand1.drop(['CUSTOMER_ID' , 'BRAND' , 'MENU' , 'PRICE'] , axis=1)\n",
        "import matplotlib.pyplot as plt\n",
        "Brand1.groupby('SELL_DATE').sum()['QUANTITY'].plot()"
      ],
      "execution_count": 318,
      "outputs": [
        {
          "output_type": "execute_result",
          "data": {
            "text/plain": [
              "<matplotlib.axes._subplots.AxesSubplot at 0x7f0db9a88710>"
            ]
          },
          "metadata": {
            "tags": []
          },
          "execution_count": 318
        },
        {
          "output_type": "display_data",
          "data": {
            "image/png": "[encoded data removed]",
            "text/plain": [
              "<Figure size 432x288 with 1 Axes>"
            ]
          },
          "metadata": {
            "tags": [],
            "needs_background": "light"
          }
        }
      ]
    },
    {
      "cell_type": "markdown",
      "metadata": {
        "id": "XKQh7omxLAV9",
        "colab_type": "text"
      },
      "source": [
        "# 상관 관계 분석"
      ]
    },
    {
      "cell_type": "code",
      "metadata": {
        "id": "s2oZeB2ZRT9K",
        "colab_type": "code",
        "colab": {
          "base_uri": "https://localhost:8080/",
          "height": 436
        },
        "outputId": "9680777b-af31-4bd2-9584-c8be10edc279"
      },
      "source": [
        "Brand1_QUANTITY = Brand1.groupby('SELL_DATE').sum()['QUANTITY']\n",
        "Brand1 = Brand1.drop_duplicates('SELL_DATE').set_index('SELL_DATE')\n",
        "Brand1.QUANTITY = Brand1_QUANTITY\n",
        "for s in range(1, 6):\n",
        "    Brand1['shift_{}'.format(s)] = Brand1['QUANTITY'].shift(s)\n",
        "Brand1"
      ],
      "execution_count": 319,
      "outputs": [
        {
          "output_type": "execute_result",
          "data": {
            "text/html": [
              "<div>\n",
              "<style scoped>\n",
              "    .dataframe tbody tr th:only-of-type {\n",
              "        vertical-align: middle;\n",
              "    }\n",
              "\n",
              "    .dataframe tbody tr th {\n",
              "        vertical-align: top;\n",
              "    }\n",
              "\n",
              "    .dataframe thead th {\n",
              "        text-align: right;\n",
              "    }\n",
              "</style>\n",
              "<table border=\"1\" class=\"dataframe\">\n",
              "  <thead>\n",
              "    <tr style=\"text-align: right;\">\n",
              "      <th></th>\n",
              "      <th>QUANTITY</th>\n",
              "      <th>weekday</th>\n",
              "      <th>holiday</th>\n",
              "      <th>Temper</th>\n",
              "      <th>Rain</th>\n",
              "      <th>shift_1</th>\n",
              "      <th>shift_2</th>\n",
              "      <th>shift_3</th>\n",
              "      <th>shift_4</th>\n",
              "      <th>shift_5</th>\n",
              "    </tr>\n",
              "    <tr>\n",
              "      <th>SELL_DATE</th>\n",
              "      <th></th>\n",
              "      <th></th>\n",
              "      <th></th>\n",
              "      <th></th>\n",
              "      <th></th>\n",
              "      <th></th>\n",
              "      <th></th>\n",
              "      <th></th>\n",
              "      <th></th>\n",
              "      <th></th>\n",
              "    </tr>\n",
              "  </thead>\n",
              "  <tbody>\n",
              "    <tr>\n",
              "      <th>2018-01-02</th>\n",
              "      <td>399</td>\n",
              "      <td>1</td>\n",
              "      <td>0</td>\n",
              "      <td>-1.0</td>\n",
              "      <td>0.0</td>\n",
              "      <td>NaN</td>\n",
              "      <td>NaN</td>\n",
              "      <td>NaN</td>\n",
              "      <td>NaN</td>\n",
              "      <td>NaN</td>\n",
              "    </tr>\n",
              "    <tr>\n",
              "      <th>2018-01-03</th>\n",
              "      <td>389</td>\n",
              "      <td>2</td>\n",
              "      <td>0</td>\n",
              "      <td>-4.0</td>\n",
              "      <td>0.0</td>\n",
              "      <td>399.0</td>\n",
              "      <td>NaN</td>\n",
              "      <td>NaN</td>\n",
              "      <td>NaN</td>\n",
              "      <td>NaN</td>\n",
              "    </tr>\n",
              "    <tr>\n",
              "      <th>2018-01-04</th>\n",
              "      <td>347</td>\n",
              "      <td>3</td>\n",
              "      <td>0</td>\n",
              "      <td>-4.0</td>\n",
              "      <td>0.0</td>\n",
              "      <td>389.0</td>\n",
              "      <td>399.0</td>\n",
              "      <td>NaN</td>\n",
              "      <td>NaN</td>\n",
              "      <td>NaN</td>\n",
              "    </tr>\n",
              "    <tr>\n",
              "      <th>2018-01-05</th>\n",
              "      <td>329</td>\n",
              "      <td>4</td>\n",
              "      <td>0</td>\n",
              "      <td>-3.0</td>\n",
              "      <td>0.0</td>\n",
              "      <td>347.0</td>\n",
              "      <td>389.0</td>\n",
              "      <td>399.0</td>\n",
              "      <td>NaN</td>\n",
              "      <td>NaN</td>\n",
              "    </tr>\n",
              "    <tr>\n",
              "      <th>2018-01-08</th>\n",
              "      <td>395</td>\n",
              "      <td>0</td>\n",
              "      <td>0</td>\n",
              "      <td>1.0</td>\n",
              "      <td>0.9</td>\n",
              "      <td>329.0</td>\n",
              "      <td>347.0</td>\n",
              "      <td>389.0</td>\n",
              "      <td>399.0</td>\n",
              "      <td>NaN</td>\n",
              "    </tr>\n",
              "    <tr>\n",
              "      <th>...</th>\n",
              "      <td>...</td>\n",
              "      <td>...</td>\n",
              "      <td>...</td>\n",
              "      <td>...</td>\n",
              "      <td>...</td>\n",
              "      <td>...</td>\n",
              "      <td>...</td>\n",
              "      <td>...</td>\n",
              "      <td>...</td>\n",
              "      <td>...</td>\n",
              "    </tr>\n",
              "    <tr>\n",
              "      <th>2019-07-25</th>\n",
              "      <td>432</td>\n",
              "      <td>3</td>\n",
              "      <td>0</td>\n",
              "      <td>26.0</td>\n",
              "      <td>9.7</td>\n",
              "      <td>468.0</td>\n",
              "      <td>500.0</td>\n",
              "      <td>537.0</td>\n",
              "      <td>381.0</td>\n",
              "      <td>527.0</td>\n",
              "    </tr>\n",
              "    <tr>\n",
              "      <th>2019-07-26</th>\n",
              "      <td>431</td>\n",
              "      <td>4</td>\n",
              "      <td>0</td>\n",
              "      <td>25.0</td>\n",
              "      <td>60.0</td>\n",
              "      <td>432.0</td>\n",
              "      <td>468.0</td>\n",
              "      <td>500.0</td>\n",
              "      <td>537.0</td>\n",
              "      <td>381.0</td>\n",
              "    </tr>\n",
              "    <tr>\n",
              "      <th>2019-07-29</th>\n",
              "      <td>511</td>\n",
              "      <td>0</td>\n",
              "      <td>0</td>\n",
              "      <td>27.0</td>\n",
              "      <td>0.5</td>\n",
              "      <td>431.0</td>\n",
              "      <td>432.0</td>\n",
              "      <td>468.0</td>\n",
              "      <td>500.0</td>\n",
              "      <td>537.0</td>\n",
              "    </tr>\n",
              "    <tr>\n",
              "      <th>2019-07-30</th>\n",
              "      <td>513</td>\n",
              "      <td>1</td>\n",
              "      <td>0</td>\n",
              "      <td>28.0</td>\n",
              "      <td>1.2</td>\n",
              "      <td>511.0</td>\n",
              "      <td>431.0</td>\n",
              "      <td>432.0</td>\n",
              "      <td>468.0</td>\n",
              "      <td>500.0</td>\n",
              "    </tr>\n",
              "    <tr>\n",
              "      <th>2019-07-31</th>\n",
              "      <td>467</td>\n",
              "      <td>2</td>\n",
              "      <td>0</td>\n",
              "      <td>25.0</td>\n",
              "      <td>62.3</td>\n",
              "      <td>513.0</td>\n",
              "      <td>511.0</td>\n",
              "      <td>431.0</td>\n",
              "      <td>432.0</td>\n",
              "      <td>468.0</td>\n",
              "    </tr>\n",
              "  </tbody>\n",
              "</table>\n",
              "<p>389 rows × 10 columns</p>\n",
              "</div>"
            ],
            "text/plain": [
              "            QUANTITY  weekday  holiday  ...  shift_3  shift_4  shift_5\n",
              "SELL_DATE                               ...                           \n",
              "2018-01-02       399        1        0  ...      NaN      NaN      NaN\n",
              "2018-01-03       389        2        0  ...      NaN      NaN      NaN\n",
              "2018-01-04       347        3        0  ...      NaN      NaN      NaN\n",
              "2018-01-05       329        4        0  ...    399.0      NaN      NaN\n",
              "2018-01-08       395        0        0  ...    389.0    399.0      NaN\n",
              "...              ...      ...      ...  ...      ...      ...      ...\n",
              "2019-07-25       432        3        0  ...    537.0    381.0    527.0\n",
              "2019-07-26       431        4        0  ...    500.0    537.0    381.0\n",
              "2019-07-29       511        0        0  ...    468.0    500.0    537.0\n",
              "2019-07-30       513        1        0  ...    432.0    468.0    500.0\n",
              "2019-07-31       467        2        0  ...    431.0    432.0    468.0\n",
              "\n",
              "[389 rows x 10 columns]"
            ]
          },
          "metadata": {
            "tags": []
          },
          "execution_count": 319
        }
      ]
    },
    {
      "cell_type": "code",
      "metadata": {
        "id": "-aigbKc5FfjM",
        "colab_type": "code",
        "colab": {
          "base_uri": "https://localhost:8080/",
          "height": 347
        },
        "outputId": "79883380-eb95-4c37-e9e1-7b34040ea9ed"
      },
      "source": [
        "Brand1.corr()"
      ],
      "execution_count": 320,
      "outputs": [
        {
          "output_type": "execute_result",
          "data": {
            "text/html": [
              "<div>\n",
              "<style scoped>\n",
              "    .dataframe tbody tr th:only-of-type {\n",
              "        vertical-align: middle;\n",
              "    }\n",
              "\n",
              "    .dataframe tbody tr th {\n",
              "        vertical-align: top;\n",
              "    }\n",
              "\n",
              "    .dataframe thead th {\n",
              "        text-align: right;\n",
              "    }\n",
              "</style>\n",
              "<table border=\"1\" class=\"dataframe\">\n",
              "  <thead>\n",
              "    <tr style=\"text-align: right;\">\n",
              "      <th></th>\n",
              "      <th>QUANTITY</th>\n",
              "      <th>weekday</th>\n",
              "      <th>holiday</th>\n",
              "      <th>Temper</th>\n",
              "      <th>Rain</th>\n",
              "      <th>shift_1</th>\n",
              "      <th>shift_2</th>\n",
              "      <th>shift_3</th>\n",
              "      <th>shift_4</th>\n",
              "      <th>shift_5</th>\n",
              "    </tr>\n",
              "  </thead>\n",
              "  <tbody>\n",
              "    <tr>\n",
              "      <th>QUANTITY</th>\n",
              "      <td>1.000000</td>\n",
              "      <td>-0.498575</td>\n",
              "      <td>-0.194728</td>\n",
              "      <td>0.314905</td>\n",
              "      <td>0.081565</td>\n",
              "      <td>0.372882</td>\n",
              "      <td>0.261163</td>\n",
              "      <td>0.266236</td>\n",
              "      <td>0.364988</td>\n",
              "      <td>0.563213</td>\n",
              "    </tr>\n",
              "    <tr>\n",
              "      <th>weekday</th>\n",
              "      <td>-0.498575</td>\n",
              "      <td>1.000000</td>\n",
              "      <td>-0.092863</td>\n",
              "      <td>-0.020658</td>\n",
              "      <td>-0.006568</td>\n",
              "      <td>0.159973</td>\n",
              "      <td>0.215665</td>\n",
              "      <td>0.182972</td>\n",
              "      <td>-0.097888</td>\n",
              "      <td>-0.382414</td>\n",
              "    </tr>\n",
              "    <tr>\n",
              "      <th>holiday</th>\n",
              "      <td>-0.194728</td>\n",
              "      <td>-0.092863</td>\n",
              "      <td>1.000000</td>\n",
              "      <td>0.000545</td>\n",
              "      <td>-0.022726</td>\n",
              "      <td>-0.031058</td>\n",
              "      <td>-0.016638</td>\n",
              "      <td>-0.055672</td>\n",
              "      <td>-0.056530</td>\n",
              "      <td>-0.013176</td>\n",
              "    </tr>\n",
              "    <tr>\n",
              "      <th>Temper</th>\n",
              "      <td>0.314905</td>\n",
              "      <td>-0.020658</td>\n",
              "      <td>0.000545</td>\n",
              "      <td>1.000000</td>\n",
              "      <td>0.156872</td>\n",
              "      <td>0.310546</td>\n",
              "      <td>0.311047</td>\n",
              "      <td>0.314944</td>\n",
              "      <td>0.310160</td>\n",
              "      <td>0.316348</td>\n",
              "    </tr>\n",
              "    <tr>\n",
              "      <th>Rain</th>\n",
              "      <td>0.081565</td>\n",
              "      <td>-0.006568</td>\n",
              "      <td>-0.022726</td>\n",
              "      <td>0.156872</td>\n",
              "      <td>1.000000</td>\n",
              "      <td>0.040128</td>\n",
              "      <td>0.058565</td>\n",
              "      <td>0.042207</td>\n",
              "      <td>0.025110</td>\n",
              "      <td>0.041602</td>\n",
              "    </tr>\n",
              "    <tr>\n",
              "      <th>shift_1</th>\n",
              "      <td>0.372882</td>\n",
              "      <td>0.159973</td>\n",
              "      <td>-0.031058</td>\n",
              "      <td>0.310546</td>\n",
              "      <td>0.040128</td>\n",
              "      <td>1.000000</td>\n",
              "      <td>0.373301</td>\n",
              "      <td>0.261518</td>\n",
              "      <td>0.266014</td>\n",
              "      <td>0.364832</td>\n",
              "    </tr>\n",
              "    <tr>\n",
              "      <th>shift_2</th>\n",
              "      <td>0.261163</td>\n",
              "      <td>0.215665</td>\n",
              "      <td>-0.016638</td>\n",
              "      <td>0.311047</td>\n",
              "      <td>0.058565</td>\n",
              "      <td>0.373301</td>\n",
              "      <td>1.000000</td>\n",
              "      <td>0.372917</td>\n",
              "      <td>0.262785</td>\n",
              "      <td>0.267256</td>\n",
              "    </tr>\n",
              "    <tr>\n",
              "      <th>shift_3</th>\n",
              "      <td>0.266236</td>\n",
              "      <td>0.182972</td>\n",
              "      <td>-0.055672</td>\n",
              "      <td>0.314944</td>\n",
              "      <td>0.042207</td>\n",
              "      <td>0.261518</td>\n",
              "      <td>0.372917</td>\n",
              "      <td>1.000000</td>\n",
              "      <td>0.374237</td>\n",
              "      <td>0.263962</td>\n",
              "    </tr>\n",
              "    <tr>\n",
              "      <th>shift_4</th>\n",
              "      <td>0.364988</td>\n",
              "      <td>-0.097888</td>\n",
              "      <td>-0.056530</td>\n",
              "      <td>0.310160</td>\n",
              "      <td>0.025110</td>\n",
              "      <td>0.266014</td>\n",
              "      <td>0.262785</td>\n",
              "      <td>0.374237</td>\n",
              "      <td>1.000000</td>\n",
              "      <td>0.373303</td>\n",
              "    </tr>\n",
              "    <tr>\n",
              "      <th>shift_5</th>\n",
              "      <td>0.563213</td>\n",
              "      <td>-0.382414</td>\n",
              "      <td>-0.013176</td>\n",
              "      <td>0.316348</td>\n",
              "      <td>0.041602</td>\n",
              "      <td>0.364832</td>\n",
              "      <td>0.267256</td>\n",
              "      <td>0.263962</td>\n",
              "      <td>0.373303</td>\n",
              "      <td>1.000000</td>\n",
              "    </tr>\n",
              "  </tbody>\n",
              "</table>\n",
              "</div>"
            ],
            "text/plain": [
              "          QUANTITY   weekday   holiday  ...   shift_3   shift_4   shift_5\n",
              "QUANTITY  1.000000 -0.498575 -0.194728  ...  0.266236  0.364988  0.563213\n",
              "weekday  -0.498575  1.000000 -0.092863  ...  0.182972 -0.097888 -0.382414\n",
              "holiday  -0.194728 -0.092863  1.000000  ... -0.055672 -0.056530 -0.013176\n",
              "Temper    0.314905 -0.020658  0.000545  ...  0.314944  0.310160  0.316348\n",
              "Rain      0.081565 -0.006568 -0.022726  ...  0.042207  0.025110  0.041602\n",
              "shift_1   0.372882  0.159973 -0.031058  ...  0.261518  0.266014  0.364832\n",
              "shift_2   0.261163  0.215665 -0.016638  ...  0.372917  0.262785  0.267256\n",
              "shift_3   0.266236  0.182972 -0.055672  ...  1.000000  0.374237  0.263962\n",
              "shift_4   0.364988 -0.097888 -0.056530  ...  0.374237  1.000000  0.373303\n",
              "shift_5   0.563213 -0.382414 -0.013176  ...  0.263962  0.373303  1.000000\n",
              "\n",
              "[10 rows x 10 columns]"
            ]
          },
          "metadata": {
            "tags": []
          },
          "execution_count": 320
        }
      ]
    },
    {
      "cell_type": "markdown",
      "metadata": {
        "id": "IEwfrdh7PVKj",
        "colab_type": "text"
      },
      "source": [
        "# Small dataset\n",
        "1. simple model\n",
        "- 많은 dependent variable을 하게 되면 overfitting을 유발하게 된다. \n",
        "- 특정 값을 예측하는 modeling의 경우 가중치를 조금만 사용\n",
        "- 정규화를 통해 최대한 최소화 해야 한다.\n",
        "\n",
        "2. Outlier를 제거해라\n",
        "- 위 model에서는 샌드위치 공휴일이거나 추석 , 설날 공휴일에 취식량이 확 빠지는 것을 볼 수 있다. \n",
        "- 제거하는 방법이 있지만 변수를 하나 두어 dependent variable로 설정하였다\n",
        "\n",
        "3. 상관 관계 분석\n",
        "-  modeling의 결과가 좋지 않다면 상관관계 없는 것 부터 제거하면서 진행하여야 한다.\n",
        "\n",
        "4. 여러 modeling을 사용하라\n",
        "- 이 부분은 자세히 모르겠다."
      ]
    },
    {
      "cell_type": "code",
      "metadata": {
        "id": "uCNzNx4ATp2Q",
        "colab_type": "code",
        "colab": {}
      },
      "source": [
        "Brand1 = Brand1[5:]\n",
        "\n",
        "from sklearn.preprocessing import MinMaxScaler\n",
        "\n",
        "x_scaler = MinMaxScaler()\n",
        "y_scaler = MinMaxScaler()\n",
        "\n",
        "Brand1_x = x_scaler.fit_transform(Brand1.iloc[: , 1:])\n",
        "Brand1_y = y_scaler.fit_transform(np.expand_dims(np.array(Brand1.iloc[: , 0]), axis=1))\n",
        "\n",
        "print(Brand1_y)\n",
        "print(Brand1_x.shape)\n",
        "print(Brand1_y.shape)\n",
        "print(Brand1.shape)"
      ],
      "execution_count": null,
      "outputs": []
    },
    {
      "cell_type": "code",
      "metadata": {
        "id": "oStCcL6lV1wZ",
        "colab_type": "code",
        "colab": {
          "base_uri": "https://localhost:8080/",
          "height": 123
        },
        "outputId": "a74d2836-6639-4fd6-be1a-46733fea09cb"
      },
      "source": [
        "Brand1_train_x = Brand1_x[:300]\n",
        "Brand1_train_y = Brand1_y[:300]\n",
        "\n",
        "#Brand1_train_x = np.expand_dims(Brand1_train_x, axis=0)\n",
        "#Brand1_train_y = np.expand_dims(Brand1_train_y, axis=0)\n",
        "Brand1_train_x = Brand1_train_x.reshape( 300 , 9 , 1)\n",
        "Brand1_train_y = Brand1_train_y.reshape( 300 , 1 , 1)\n",
        "print(Brand1_train_x.shape)\n",
        "print(Brand1_train_y.shape)\n",
        "\n",
        "Brand1_val_x = Brand1_x[300:350]\n",
        "Brand1_val_y = Brand1_y[300:350]\n",
        "#Brand1_val_x = np.expand_dims(Brand1_val_x, axis=0)\n",
        "#Brand1_val_y = np.expand_dims(Brand1_val_y, axis=0)\n",
        "Brand1_val_x = Brand1_val_x.reshape( 50 , 9 , 1)\n",
        "Brand1_val_y = Brand1_val_y.reshape( 50 , 1 , 1)\n",
        "print(Brand1_val_x.shape)\n",
        "print(Brand1_val_y.shape)\n",
        "\n",
        "Brand1_test_x = Brand1_x[350:]\n",
        "Brand1_test_y = Brand1_y[350:]\n",
        "\n",
        "print(Brand1_test_x.shape)\n",
        "print(Brand1_test_y.shape)"
      ],
      "execution_count": 325,
      "outputs": [
        {
          "output_type": "stream",
          "text": [
            "(300, 9, 1)\n",
            "(300, 1, 1)\n",
            "(50, 9, 1)\n",
            "(50, 1, 1)\n",
            "(34, 9)\n",
            "(34, 1)\n"
          ],
          "name": "stdout"
        }
      ]
    },
    {
      "cell_type": "markdown",
      "metadata": {
        "id": "Lxhc7Ce3TqUI",
        "colab_type": "text"
      },
      "source": [
        "# Data 정규화 및 Data Split\n",
        "Train = 300 / Val = 50 / Test = 34"
      ]
    },
    {
      "cell_type": "code",
      "metadata": {
        "id": "iU-BivL_XcEp",
        "colab_type": "code",
        "colab": {
          "base_uri": "https://localhost:8080/",
          "height": 265
        },
        "outputId": "ecf3c954-271c-4b0f-a0cd-810fad5b7f5d"
      },
      "source": [
        "import tensorflow as tf\n",
        "from tensorflow.python.keras.models import Sequential\n",
        "from tensorflow.python.keras.layers import Input, Dense, GRU , LSTM\n",
        "from tensorflow.python.keras.optimizers import Adam\n",
        "from tensorflow.python.keras.callbacks import EarlyStopping, ModelCheckpoint, TensorBoard, ReduceLROnPlateau\n",
        "\n",
        "model = Sequential()\n",
        "model.add(LSTM(20 , input_shape = (9 , 1)))\n",
        "model.add(Dense(10))\n",
        "model.add(Dense(1))\n",
        "\n",
        "model.compile(loss = 'mean_squared_error' , optimizer = 'adam')\n",
        "model.summary()"
      ],
      "execution_count": 326,
      "outputs": [
        {
          "output_type": "stream",
          "text": [
            "Model: \"sequential_7\"\n",
            "_________________________________________________________________\n",
            "Layer (type)                 Output Shape              Param #   \n",
            "=================================================================\n",
            "lstm_7 (LSTM)                (None, 20)                1760      \n",
            "_________________________________________________________________\n",
            "dense_12 (Dense)             (None, 10)                210       \n",
            "_________________________________________________________________\n",
            "dense_13 (Dense)             (None, 1)                 11        \n",
            "=================================================================\n",
            "Total params: 1,981\n",
            "Trainable params: 1,981\n",
            "Non-trainable params: 0\n",
            "_________________________________________________________________\n"
          ],
          "name": "stdout"
        }
      ]
    },
    {
      "cell_type": "code",
      "metadata": {
        "id": "dJpBhU0dZCta",
        "colab_type": "code",
        "colab": {
          "base_uri": "https://localhost:8080/",
          "height": 1000
        },
        "outputId": "f560843c-e6e3-4e15-8600-51ae4c616532"
      },
      "source": [
        "epochs = 100\n",
        "batch_size = 10\n",
        "validation_data = (Brand1_val_x , Brand1_val_y)\n",
        "early_stop = EarlyStopping(monitor = 'loss' , patience=5 , verbose = 1)\n",
        "model.fit( Brand1_train_x , Brand1_train_y , validation_data = validation_data, epochs = epochs , batch_size = batch_size , verbose = 1 , callbacks = [early_stop] )"
      ],
      "execution_count": 327,
      "outputs": [
        {
          "output_type": "stream",
          "text": [
            "Epoch 1/100\n",
            "30/30 [==============================] - 0s 15ms/step - loss: 0.1964 - val_loss: 0.0415\n",
            "Epoch 2/100\n",
            "30/30 [==============================] - 0s 4ms/step - loss: 0.0288 - val_loss: 0.0278\n",
            "Epoch 3/100\n",
            "30/30 [==============================] - 0s 4ms/step - loss: 0.0267 - val_loss: 0.0279\n",
            "Epoch 4/100\n",
            "30/30 [==============================] - 0s 4ms/step - loss: 0.0261 - val_loss: 0.0270\n",
            "Epoch 5/100\n",
            "30/30 [==============================] - 0s 4ms/step - loss: 0.0254 - val_loss: 0.0271\n",
            "Epoch 6/100\n",
            "30/30 [==============================] - 0s 4ms/step - loss: 0.0251 - val_loss: 0.0265\n",
            "Epoch 7/100\n",
            "30/30 [==============================] - 0s 4ms/step - loss: 0.0248 - val_loss: 0.0260\n",
            "Epoch 8/100\n",
            "30/30 [==============================] - 0s 4ms/step - loss: 0.0240 - val_loss: 0.0254\n",
            "Epoch 9/100\n",
            "30/30 [==============================] - 0s 4ms/step - loss: 0.0234 - val_loss: 0.0277\n",
            "Epoch 10/100\n",
            "30/30 [==============================] - 0s 4ms/step - loss: 0.0231 - val_loss: 0.0246\n",
            "Epoch 11/100\n",
            "30/30 [==============================] - 0s 5ms/step - loss: 0.0222 - val_loss: 0.0239\n",
            "Epoch 12/100\n",
            "30/30 [==============================] - 0s 4ms/step - loss: 0.0217 - val_loss: 0.0231\n",
            "Epoch 13/100\n",
            "30/30 [==============================] - 0s 4ms/step - loss: 0.0209 - val_loss: 0.0221\n",
            "Epoch 14/100\n",
            "30/30 [==============================] - 0s 4ms/step - loss: 0.0198 - val_loss: 0.0232\n",
            "Epoch 15/100\n",
            "30/30 [==============================] - 0s 4ms/step - loss: 0.0185 - val_loss: 0.0194\n",
            "Epoch 16/100\n",
            "30/30 [==============================] - 0s 4ms/step - loss: 0.0171 - val_loss: 0.0177\n",
            "Epoch 17/100\n",
            "30/30 [==============================] - 0s 4ms/step - loss: 0.0161 - val_loss: 0.0169\n",
            "Epoch 18/100\n",
            "30/30 [==============================] - 0s 4ms/step - loss: 0.0157 - val_loss: 0.0164\n",
            "Epoch 19/100\n",
            "30/30 [==============================] - 0s 4ms/step - loss: 0.0150 - val_loss: 0.0168\n",
            "Epoch 20/100\n",
            "30/30 [==============================] - 0s 4ms/step - loss: 0.0151 - val_loss: 0.0161\n",
            "Epoch 21/100\n",
            "30/30 [==============================] - 0s 4ms/step - loss: 0.0148 - val_loss: 0.0183\n",
            "Epoch 22/100\n",
            "30/30 [==============================] - 0s 4ms/step - loss: 0.0154 - val_loss: 0.0229\n",
            "Epoch 23/100\n",
            "30/30 [==============================] - 0s 4ms/step - loss: 0.0142 - val_loss: 0.0162\n",
            "Epoch 24/100\n",
            "30/30 [==============================] - 0s 4ms/step - loss: 0.0133 - val_loss: 0.0166\n",
            "Epoch 25/100\n",
            "30/30 [==============================] - 0s 4ms/step - loss: 0.0133 - val_loss: 0.0161\n",
            "Epoch 26/100\n",
            "30/30 [==============================] - 0s 4ms/step - loss: 0.0132 - val_loss: 0.0164\n",
            "Epoch 27/100\n",
            "30/30 [==============================] - 0s 4ms/step - loss: 0.0127 - val_loss: 0.0160\n",
            "Epoch 28/100\n",
            "30/30 [==============================] - 0s 4ms/step - loss: 0.0135 - val_loss: 0.0161\n",
            "Epoch 29/100\n",
            "30/30 [==============================] - 0s 4ms/step - loss: 0.0131 - val_loss: 0.0159\n",
            "Epoch 30/100\n",
            "30/30 [==============================] - 0s 4ms/step - loss: 0.0129 - val_loss: 0.0159\n",
            "Epoch 31/100\n",
            "30/30 [==============================] - 0s 4ms/step - loss: 0.0128 - val_loss: 0.0163\n",
            "Epoch 32/100\n",
            "30/30 [==============================] - 0s 4ms/step - loss: 0.0133 - val_loss: 0.0163\n",
            "Epoch 00032: early stopping\n"
          ],
          "name": "stdout"
        },
        {
          "output_type": "execute_result",
          "data": {
            "text/plain": [
              "<tensorflow.python.keras.callbacks.History at 0x7f0db9a7eac8>"
            ]
          },
          "metadata": {
            "tags": []
          },
          "execution_count": 327
        }
      ]
    },
    {
      "cell_type": "code",
      "metadata": {
        "id": "X9cLQvzBbPOH",
        "colab_type": "code",
        "colab": {
          "base_uri": "https://localhost:8080/",
          "height": 34
        },
        "outputId": "81b138c7-ffa1-42a2-b8fc-37d88f66e8bc"
      },
      "source": [
        "result = model.evaluate(x=Brand1_test_x.reshape(34,9,1), y = Brand1_test_y.reshape(34,1,1))"
      ],
      "execution_count": 328,
      "outputs": [
        {
          "output_type": "stream",
          "text": [
            "2/2 [==============================] - 0s 3ms/step - loss: 0.0085\n"
          ],
          "name": "stdout"
        }
      ]
    },
    {
      "cell_type": "code",
      "metadata": {
        "id": "UGcaJF6EhEDP",
        "colab_type": "code",
        "colab": {
          "base_uri": "https://localhost:8080/",
          "height": 674
        },
        "outputId": "5eccd328-f8d5-477d-888f-5b4fc6748f4f"
      },
      "source": [
        "\n",
        "y_pred = model.predict(Brand1_test_x.reshape(34,9,1))\n",
        "y_true = Brand1_test_y\n",
        "print(y_pred)\n",
        "print(y_pred.shape)\n",
        "print(np.squeeze(y_pred).shape)\n",
        "print(y_true.shape)"
      ],
      "execution_count": 329,
      "outputs": [
        {
          "output_type": "stream",
          "text": [
            "[[0.41794464]\n",
            " [0.75787556]\n",
            " [0.71210676]\n",
            " [0.65298736]\n",
            " [0.58927953]\n",
            " [0.52044004]\n",
            " [0.76688844]\n",
            " [0.656664  ]\n",
            " [0.60225314]\n",
            " [0.54639053]\n",
            " [0.4805393 ]\n",
            " [0.7602663 ]\n",
            " [0.67928076]\n",
            " [0.6025877 ]\n",
            " [0.5393789 ]\n",
            " [0.47806373]\n",
            " [0.73068905]\n",
            " [0.6512638 ]\n",
            " [0.5954727 ]\n",
            " [0.5401744 ]\n",
            " [0.4900984 ]\n",
            " [0.733412  ]\n",
            " [0.6793049 ]\n",
            " [0.6029683 ]\n",
            " [0.5303116 ]\n",
            " [0.44972068]\n",
            " [0.72082156]\n",
            " [0.6248162 ]\n",
            " [0.5543566 ]\n",
            " [0.51986617]\n",
            " [0.4572447 ]\n",
            " [0.67566776]\n",
            " [0.59138995]\n",
            " [0.5794752 ]]\n",
            "(34, 1)\n",
            "(34,)\n",
            "(34, 1)\n"
          ],
          "name": "stdout"
        }
      ]
    },
    {
      "cell_type": "code",
      "metadata": {
        "id": "HuDKHDlWlEf2",
        "colab_type": "code",
        "colab": {
          "base_uri": "https://localhost:8080/",
          "height": 123
        },
        "outputId": "e74ae8b4-214f-4e07-b581-cb7371076c6d"
      },
      "source": [
        "np.transpose(y_scaler.inverse_transform(y_pred))\n"
      ],
      "execution_count": 334,
      "outputs": [
        {
          "output_type": "execute_result",
          "data": {
            "text/plain": [
              "array([[417.05746, 543.1718 , 526.1916 , 504.2583 , 480.62268, 455.08325,\n",
              "        546.5156 , 505.6223 , 485.4359 , 464.71088, 440.28006, 544.0588 ,\n",
              "        514.0131 , 485.56003, 462.10956, 439.36166, 533.08563, 503.61887,\n",
              "        482.92035, 462.40472, 443.8265 , 534.0958 , 514.0221 , 485.70123,\n",
              "        458.74557, 428.84637, 529.4248 , 493.8068 , 467.66626, 454.87036,\n",
              "        431.6378 , 512.6727 , 481.40567, 476.98532]], dtype=float32)"
            ]
          },
          "metadata": {
            "tags": []
          },
          "execution_count": 334
        }
      ]
    },
    {
      "cell_type": "code",
      "metadata": {
        "id": "-ppa-9ZBo9e_",
        "colab_type": "code",
        "colab": {
          "base_uri": "https://localhost:8080/",
          "height": 87
        },
        "outputId": "720db0b8-12b3-418e-cfb7-f09378f35b84"
      },
      "source": [
        "np.transpose(y_scaler.inverse_transform(y_true))"
      ],
      "execution_count": 336,
      "outputs": [
        {
          "output_type": "execute_result",
          "data": {
            "text/plain": [
              "array([[437., 597., 521., 515., 501., 395., 539., 550., 506., 491., 440.,\n",
              "        523., 528., 493., 497., 431., 499., 542., 498., 541., 365., 568.,\n",
              "        525., 443., 527., 381., 537., 500., 468., 432., 431., 511., 513.,\n",
              "        467.]])"
            ]
          },
          "metadata": {
            "tags": []
          },
          "execution_count": 336
        }
      ]
    },
    {
      "cell_type": "code",
      "metadata": {
        "id": "TRb3iY84ph7N",
        "colab_type": "code",
        "colab": {
          "base_uri": "https://localhost:8080/",
          "height": 34
        },
        "outputId": "d078031f-9869-4fea-8898-47c4eb9c4dee"
      },
      "source": [
        "from sklearn.metrics import mean_absolute_error\n",
        "mean_absolute_error(y_scaler.inverse_transform(y_true) , y_scaler.inverse_transform(y_pred))"
      ],
      "execution_count": 342,
      "outputs": [
        {
          "output_type": "execute_result",
          "data": {
            "text/plain": [
              "26.01305524040671"
            ]
          },
          "metadata": {
            "tags": []
          },
          "execution_count": 342
        }
      ]
    }
  ]
}