{
  "nbformat": 4,
  "nbformat_minor": 0,
  "metadata": {
    "colab": {
      "name": "기본 개념.ipynb",
      "provenance": [],
      "collapsed_sections": [],
      "authorship_tag": "ABX9TyOVx2ednFyRo3BMs9FoMU/j",
      "include_colab_link": true
    },
    "kernelspec": {
      "name": "python3",
      "display_name": "Python 3"
    }
  },
  "cells": [
    {
      "cell_type": "markdown",
      "metadata": {
        "id": "view-in-github",
        "colab_type": "text"
      },
      "source": [
        "<a href=\"https://colab.research.google.com/github/Kimuksung/bigdata/blob/master/%EA%B8%B0%EB%B3%B8_%EA%B0%9C%EB%85%90.ipynb\" target=\"_parent\"><img src=\"https://colab.research.google.com/assets/colab-badge.svg\" alt=\"Open In Colab\"/></a>"
      ]
    },
    {
      "cell_type": "markdown",
      "metadata": {
        "id": "JXg2thOFpuwF",
        "colab_type": "text"
      },
      "source": [
        "# 인공 신경망 Newlearn network 기본 개념\n",
        "\n",
        "Weight 와 Bias를 바탕으로 하나의 node가 activation에 맞추어 활성화 되면 해당 값을 전달하는 방식\n",
        "\n",
        "Activation[ X1W1 + .. + XnWn + b]\n",
        "\n",
        "\n",
        "\n"
      ]
    },
    {
      "cell_type": "markdown",
      "metadata": {
        "id": "JF2bVuMpstG3",
        "colab_type": "text"
      },
      "source": [
        "Activation function\n",
        "\n",
        "<a href=\"https://imgbb.com/\"><img src=\"https://i.ibb.co/yBGpjxL/linear.png\" alt=\"linear\" border=\"0\"></a><a target='_blank' href='https://nonprofitlight.com/ca/lafayette/springstone-school'></a>\n",
        "<a href=\"https://imgbb.com/\"><img src=\"https://i.ibb.co/sKKPpW1/sigmoid.png\" alt=\"sigmoid\" border=\"0\"></a><a target='_blank' href='https://nonprofitlight.com/ca/lafayette/springstone-school'></a>\n",
        "<a href=\"https://imgbb.com/\"><img src=\"https://i.ibb.co/6yCm9tV/relu.png\" alt=\"relu\" border=\"0\"></a><a target='_blank' href='https://nonprofitlight.com/ca/lafayette/springstone-school'></a>\n",
        "\n"
      ]
    },
    {
      "cell_type": "markdown",
      "metadata": {
        "id": "q2ZvckdosxMU",
        "colab_type": "text"
      },
      "source": [
        "Back propagation\n",
        "\n",
        "- 출력에서 생긴 오차(error)를 입력 쪽(역방향)으로 전파시켜 순차적으로\n",
        "편미분을 수행하여 훈련 데이터에 최적화된 weight값을 얻는 알고리즘\n",
        "\n",
        "<a href=\"https://imgbb.com/\"><img src=\"https://i.ibb.co/YW2tGTq/backpropagation.png\" alt=\"backpropagation\" border=\"0\"></a><a target='_blank' href='https://nonprofitlight.com/ca/lafayette/springstone-school'>l</a><br />"
      ]
    },
    {
      "cell_type": "markdown",
      "metadata": {
        "id": "2PhU1-XvvM2Q",
        "colab_type": "text"
      },
      "source": [
        "overfitting : 학습을 하다보면 train loss는 점차 줄어들기 마련인데, 학습을 과하게 하다보면 세세한 영역도 학습하기 시작하여 원래 목표와는 어긋나는 경우가 발생\n",
        "이를 방지하기 위해 train loss 와 val loss가 둘다 감소하면 underfitting / train loss가 감소 , val loss가 증가하면 overfitting이라 한다.\n",
        "\n",
        "- 원인\n",
        "\n",
        "1.   훈련데이터 적은 경우, 가중치가 큰 경우\n",
        "\n",
        "2.   Layer, Node 많은 모델(표현력이 높은 모델)\n",
        "\n",
        "- 해결 방안\n",
        "\n",
        "\n",
        "1.   가중치 감소(큰 가중치에 대한 패널티 부과 방법\n",
        " ) -> L2법칙(Ridge) : cost + 1/2λW2\n",
        "2.   드롭아웃 : 훈련 시 은닉층의 뉴런 무작위 삭제, 신호 전달 차단\n",
        "\n",
        "\n",
        "\n",
        "<a href=\"https://ibb.co/bzxCCL0\"><img src=\"https://i.ibb.co/6g2TTbM/overfitting1.png\" alt=\"overfitting1\" border=\"0\"></a><br /><a target='_blank' href='https://nonprofitlight.com/ca/lafayette/springstone-school'></a><br />\n",
        "\n",
        "<a href=\"https://ibb.co/TRfWfgH\"><img src=\"https://i.ibb.co/ctBYBrN/overfitting2.png\" alt=\"overfitting2\" border=\"0\"></a><br /><a target='_blank' href='https://nonprofitlight.com/ca/lafayette/springstone-school'></a><br />\n",
        "\n",
        "<a href=\"https://ibb.co/qyGn7mL\"><img src=\"https://i.ibb.co/vw5BVLC/overfitting3.png\" alt=\"overfitting3\" border=\"0\"></a><br /><a target='_blank' href='https://nonprofitlight.com/ca/lafayette/springstone-school'></a><br />"
      ]
    }
  ]
}